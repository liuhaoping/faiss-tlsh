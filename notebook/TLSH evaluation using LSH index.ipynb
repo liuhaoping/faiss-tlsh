{
 "cells": [
  {
   "cell_type": "markdown",
   "metadata": {},
   "source": [
    "# Binary LSH codes\n",
    "In Faiss, the IndedLSH is just a Flat index with binary codes. The database vectors and query vectors are hashed into binary codes that are compared with Hamming distances.\n",
    "\n",
    "https://github.com/facebookresearch/faiss/wiki/Faiss-indexes"
   ]
  },
  {
   "cell_type": "code",
   "execution_count": 1,
   "metadata": {},
   "outputs": [],
   "source": [
    "import faiss                   \n",
    "import numpy as np\n",
    "import pandas as pd\n",
    "import time\n",
    "import tlsh\n",
    "from tools import *"
   ]
  },
  {
   "cell_type": "markdown",
   "metadata": {},
   "source": [
    "## Dummy Data Testing"
   ]
  },
  {
   "cell_type": "code",
   "execution_count": 2,
   "metadata": {},
   "outputs": [],
   "source": [
    "d = 70                         # dimension\n",
    "n_bits = 2*d \n",
    "k = 3                          # we want to see K nearest neighbors"
   ]
  },
  {
   "cell_type": "code",
   "execution_count": 3,
   "metadata": {
    "scrolled": false
   },
   "outputs": [
    {
     "data": {
      "text/plain": [
       "array([[ 0.,  0.,  2.,  9., 13., 15., 13.,  9.,  4.,  2.,  9., 14.,  9.,\n",
       "        10.,  6., 11.,  2.,  8., 11.,  8., 12.,  9.,  3.,  0., 13.,  4.,\n",
       "         9.,  9., 10.,  8.,  8.,  3.,  6.,  3., 10.,  5.,  6.,  7.,  5.,\n",
       "        12.,  5., 10.,  7.,  5., 15.,  7.,  1.,  4.,  8.,  1.,  9.,  3.,\n",
       "         0.,  6.,  2., 13.,  4., 13., 12., 12.,  8.,  9., 10.,  0.,  3.,\n",
       "        12.,  5.,  9.,  5.,  0.]], dtype=float32)"
      ]
     },
     "execution_count": 3,
     "metadata": {},
     "output_type": "execute_result"
    }
   ],
   "source": [
    "xb = gen_data(10000, d)\n",
    "xb[:1]"
   ]
  },
  {
   "cell_type": "code",
   "execution_count": 4,
   "metadata": {
    "scrolled": false
   },
   "outputs": [
    {
     "name": "stdout",
     "output_type": "stream",
     "text": [
      "[[   0 5456 4563]\n",
      " [   1 8159 2763]\n",
      " [   2 6386 6294]\n",
      " [   3 6070 1246]\n",
      " [   4  115 6466]]\n"
     ]
    }
   ],
   "source": [
    "index = faiss.IndexLSH(d, n_bits)   # build the index\n",
    "# index.train(xb)\n",
    "index.add(xb)                  # add vectors to the index\n",
    "D, I = index.search(xb, k) # sanity check\n",
    "print(I[:5])"
   ]
  },
  {
   "cell_type": "code",
   "execution_count": 5,
   "metadata": {
    "scrolled": true
   },
   "outputs": [
    {
     "name": "stdout",
     "output_type": "stream",
     "text": [
      " recall at index:  1.0000,  missing rate: 0.0000\n"
     ]
    }
   ],
   "source": [
    "evaluate(I, pd.DataFrame(xb), k)"
   ]
  },
  {
   "cell_type": "code",
   "execution_count": 6,
   "metadata": {
    "scrolled": true
   },
   "outputs": [
    {
     "name": "stdout",
     "output_type": "stream",
     "text": [
      "[[   0 5456 4563]\n",
      " [   1 8159 2763]\n",
      " [   2 6386 6294]\n",
      " [   3 6070 1246]\n",
      " [   4  115 6466]]\n"
     ]
    }
   ],
   "source": [
    "xb = (xb/15)\n",
    "\n",
    "index = faiss.IndexLSH(d, n_bits)   # build the index\n",
    "index.add(xb)                  # add vectors to the index\n",
    "D, I = index.search(xb, k) # sanity check\n",
    "print(I[:5])"
   ]
  },
  {
   "cell_type": "code",
   "execution_count": 7,
   "metadata": {
    "scrolled": true
   },
   "outputs": [
    {
     "name": "stdout",
     "output_type": "stream",
     "text": [
      " recall at index:  1.0000,  missing rate: 0.0000\n"
     ]
    }
   ],
   "source": [
    "evaluate(I, pd.DataFrame(xb), k)"
   ]
  },
  {
   "cell_type": "markdown",
   "metadata": {},
   "source": [
    "## Malware Data Testing"
   ]
  },
  {
   "cell_type": "code",
   "execution_count": 4,
   "metadata": {
    "scrolled": false
   },
   "outputs": [
    {
     "name": "stdout",
     "output_type": "stream",
     "text": [
      "(132134, 3)\n"
     ]
    },
    {
     "data": {
      "text/html": [
       "<div>\n",
       "<style scoped>\n",
       "    .dataframe tbody tr th:only-of-type {\n",
       "        vertical-align: middle;\n",
       "    }\n",
       "\n",
       "    .dataframe tbody tr th {\n",
       "        vertical-align: top;\n",
       "    }\n",
       "\n",
       "    .dataframe thead th {\n",
       "        text-align: right;\n",
       "    }\n",
       "</style>\n",
       "<table border=\"1\" class=\"dataframe\">\n",
       "  <thead>\n",
       "    <tr style=\"text-align: right;\">\n",
       "      <th></th>\n",
       "      <th>sha1_hash</th>\n",
       "      <th>tlsh</th>\n",
       "      <th>signature</th>\n",
       "    </tr>\n",
       "  </thead>\n",
       "  <tbody>\n",
       "    <tr>\n",
       "      <th>0</th>\n",
       "      <td>003411d0a9610cfe8a027a364b46c489fa034502</td>\n",
       "      <td>AF74AD89B6257A65DE3A727411C78FC1B994D007602253...</td>\n",
       "      <td>Quakbot</td>\n",
       "    </tr>\n",
       "  </tbody>\n",
       "</table>\n",
       "</div>"
      ],
      "text/plain": [
       "                                  sha1_hash  \\\n",
       "0  003411d0a9610cfe8a027a364b46c489fa034502   \n",
       "\n",
       "                                                tlsh signature  \n",
       "0  AF74AD89B6257A65DE3A727411C78FC1B994D007602253...   Quakbot  "
      ]
     },
     "execution_count": 4,
     "metadata": {},
     "output_type": "execute_result"
    }
   ],
   "source": [
    "df=pd.read_csv(\"../data/malware_bazaar.csv\",header=0)\n",
    "print(df.shape)\n",
    "df[:1]"
   ]
  },
  {
   "cell_type": "markdown",
   "metadata": {},
   "source": [
    "### 70 Hex chars as Input"
   ]
  },
  {
   "cell_type": "code",
   "execution_count": 9,
   "metadata": {
    "scrolled": true
   },
   "outputs": [
    {
     "name": "stdout",
     "output_type": "stream",
     "text": [
      "(132134, 70)\n"
     ]
    }
   ],
   "source": [
    "xb = df['tlsh'].apply(convert_to_array)\n",
    "xb = np.array(xb.tolist()).astype('float32')\n",
    "print(xb.shape)"
   ]
  },
  {
   "cell_type": "code",
   "execution_count": 10,
   "metadata": {},
   "outputs": [
    {
     "name": "stdout",
     "output_type": "stream",
     "text": [
      "[[ 1053  1190     0]\n",
      " [    1 24118 35005]\n",
      " [    2 89364  3926]\n",
      " [10600 11197     3]\n",
      " [18609 19442     4]]\n"
     ]
    }
   ],
   "source": [
    "index = faiss.IndexLSH(d, n_bits)   # build the index\n",
    "index.add(xb)                  # add vectors to the index\n",
    "D, I = index.search(xb, k) # sanity check\n",
    "print(I[:5])"
   ]
  },
  {
   "cell_type": "code",
   "execution_count": 11,
   "metadata": {},
   "outputs": [
    {
     "name": "stdout",
     "output_type": "stream",
     "text": [
      " recall at index:  0.7907,  missing rate: 0.0000\n",
      " recall at label:  0.9996\n"
     ]
    }
   ],
   "source": [
    "evaluate(I, df, k, True)"
   ]
  },
  {
   "cell_type": "markdown",
   "metadata": {},
   "source": [
    "### 128 Buckets as Input (TLSH Body)"
   ]
  },
  {
   "cell_type": "code",
   "execution_count": 12,
   "metadata": {},
   "outputs": [
    {
     "name": "stdout",
     "output_type": "stream",
     "text": [
      "(132134, 128)\n",
      "[[   52   395     0]\n",
      " [    1 54676 24118]\n",
      " [ 4904 12208     2]\n",
      " [  561   630     3]\n",
      " [    4   239   102]]\n",
      " recall at index:  0.5395,  missing rate: 0.0000\n",
      " recall at label:  0.9986\n"
     ]
    }
   ],
   "source": [
    "xb = df['tlsh'].str.slice(start=6).apply(to_hist, args=(128,))\n",
    "xb = np.array(xb.tolist()).astype('float32')\n",
    "print(xb.shape)\n",
    "\n",
    "d = 128                         # dimension\n",
    "n_bits = 2*d \n",
    "index = faiss.IndexLSH(d, n_bits*4)   # build the index\n",
    "index.add(xb)                  # add vectors to the index\n",
    "D, I = index.search(xb, k) # sanity check\n",
    "print(I[:5])\n",
    "evaluate(I, df, k, True)"
   ]
  },
  {
   "cell_type": "markdown",
   "metadata": {},
   "source": [
    "### 140 Buckets as Input (Header + Body)"
   ]
  },
  {
   "cell_type": "code",
   "execution_count": 5,
   "metadata": {},
   "outputs": [
    {
     "name": "stdout",
     "output_type": "stream",
     "text": [
      "(132134, 140)\n"
     ]
    }
   ],
   "source": [
    "xb = df['tlsh'].apply(to_hist, args=(140,))\n",
    "xb = np.array(xb.tolist()).astype('float32')\n",
    "print(xb.shape)"
   ]
  },
  {
   "cell_type": "code",
   "execution_count": 13,
   "metadata": {
    "scrolled": true
   },
   "outputs": [
    {
     "name": "stdout",
     "output_type": "stream",
     "text": [
      "(132134, 140)\n",
      "[[     0 127168   2781]\n",
      " [     1  24118  67562]\n",
      " [     2  25683  53636]\n",
      " [     3 110150  11197]\n",
      " [     4  45416  19442]]\n",
      " recall at index:  0.9477,  missing rate: 0.0000\n",
      " recall at label:  1.0000\n"
     ]
    }
   ],
   "source": [
    "d = 140                         # dimension\n",
    "n_bits = 2*d \n",
    "\n",
    "index = faiss.IndexLSH(d, n_bits)   # build the index\n",
    "index.add(xb)                  # add vectors to the index\n",
    "D, I = index.search(xb, k) # sanity check\n",
    "print(I[:5])\n",
    "evaluate(I, df, k, True)"
   ]
  },
  {
   "cell_type": "markdown",
   "metadata": {},
   "source": [
    "**BEST SOLUTION**\n",
    "n_bits = 4*d  "
   ]
  },
  {
   "cell_type": "code",
   "execution_count": 6,
   "metadata": {
    "scrolled": true
   },
   "outputs": [
    {
     "name": "stdout",
     "output_type": "stream",
     "text": [
      "[[     0   2781   1556]\n",
      " [     1  24118  25610]\n",
      " [     2  70506  30084]\n",
      " [110150 115061      3]\n",
      " [ 19442  45416      4]]\n",
      " recall at index:  0.9541,  missing rate: 0.0000\n",
      " recall at label:  1.0000\n"
     ]
    }
   ],
   "source": [
    "d = 140                         # dimension\n",
    "n_bits = 4*d                    # as each bucket values is between 0-3, so assign 4 bits for ecah bucket/dinmension\n",
    "\n",
    "index = faiss.IndexLSH(d, n_bits)   # build the index\n",
    "index.add(xb)                  # add vectors to the index\n",
    "D, I = index.search(xb, k) # sanity check\n",
    "print(I[:5])\n",
    "evaluate(I, df, k, True)"
   ]
  },
  {
   "cell_type": "markdown",
   "metadata": {},
   "source": [
    "## Vector/TLSH Comparsion by seach each other\n",
    "\n",
    "To see whether or not vector/tlsh occours together by searching each other.  (Top and bottom N)"
   ]
  },
  {
   "cell_type": "code",
   "execution_count": 7,
   "metadata": {},
   "outputs": [
    {
     "name": "stdout",
     "output_type": "stream",
     "text": [
      "[[     0   2781   1556  42881  97650  55732  11763 118391  55084  92715\n",
      "   86953 116081  46712  99714  75815  16621  97065  14007 128790  85151\n",
      "   83262  67487  55801  68448 122987  14947  78558   5733  90970  78986\n",
      "   71740  40668  97105  91916 117504  15141 123632  97684  69675  80598\n",
      "  120115 116935 102693 120990 115364  43809  46651  88107  78339  22511\n",
      "  117562  32594  20455  27660  12636  68944   6546  51119  76204  81887\n",
      "   85421  31013 108608 105494 131330  85029  98965  18117  50070  72027\n",
      "   40376  31862  95600  19831 103480   1370  27123   6188  83854  78755\n",
      "   44545  23909 116232  86901 109866  87562 104323   2775   6634  18084\n",
      "  122300  72750   7965  17822 128484  85232  69554  30099  93598   6484\n",
      "    8054 100341  64479 124927  38021 127168  75061  71267  78532  32556\n",
      "   44959   1712  56139  16353  54738  29030  25067   9414 104290  45484\n",
      "   86123  10967  45232  57445  41530  70987  19665  48491  77953 118303\n",
      "    8038  56732  13188  40033  18749  67939 115268  29478  45877  41721\n",
      "   16963 103920 103631 130858 130613   6789   4769  95052  95371  80500\n",
      "   27827  47162 120871  15928  13200  71328  12402 120683   6131  21355\n",
      "   53797  77494  16995  14278 117947  91957  45094  90452  81580  46569\n",
      "  122853  91704    109 108947 105218  71507  25596  53651  92858  24445\n",
      "   33004  29232  50240  66106  51867  49484  39123  57586  92410  70951\n",
      "    2917  84817   2946  90321  76150  53431  53273 106213  17965  34490]\n",
      " [     1  24118  25610 105757  54676   9804  35005  62720  64392   5559\n",
      "   67562  61401 120614  63060  58495  54903  74858  54966  23903  31431\n",
      "  105071   5328 108006   5432  78040 109255  16287  36950 101631 101722\n",
      "  103385  33035 123454 102616 107095  56558 107885  11666 107723  13500\n",
      "   30289  53983  73473  37700  40649 128040 118986  67980  71171  91984\n",
      "   20848  16960  60254  47864  15079  35082  18808 103465  15557 105576\n",
      "   12669  40478 118493  43782  62549  31434 114869  47925  69971  99870\n",
      "   10851  52032  51307  57496  20128   6752 119724 105720 100818  45198\n",
      "   28475  68123  45914   6445 107940  76675 123015 119728  51693  70773\n",
      "  113428  78273 111026  98737  74905  32001  87278  48685 117226 105602\n",
      "  128410  57280   3113 123952  69717  30421 100551  14650 114579  25698\n",
      "    4051  63314  26167  83360  61676  30784  38701 115485  64473  63656\n",
      "   10539  78279  19274 113553 112461  64865  19182   3629  77346  76862\n",
      "   76044  96664  54758  66927 128776  89756  62203  61721 107303  38637\n",
      "  106288    126  69778  36548 118651  28943  81167  67902  45553  99667\n",
      "   12555  55952 112048  34912  27118  54327  39910  54312 108250 126301\n",
      "  107883  88511 123815 123469  72090  61302   2779  80567  29395   1484\n",
      "   28077 129005  19052   7618 101515  33713  79322     13  77865  57671\n",
      "  126823  20340 128402  16647 119159 117978 104788  79669  79486  36113\n",
      "  115730 115837  67006  28809 113005  56768  15589 114103 110095  96159]]\n"
     ]
    }
   ],
   "source": [
    "k = 200\n",
    "D, I = index.search(xb, k) # sanity check\n",
    "print(I[:2])"
   ]
  },
  {
   "cell_type": "code",
   "execution_count": 8,
   "metadata": {},
   "outputs": [
    {
     "name": "stdout",
     "output_type": "stream",
     "text": [
      "[[     0   2781   1556  42881  97650  55732  11763 118391  55084  92715\n",
      "   86953 116081  46712  99714  75815  16621  97065  14007 128790  85151\n",
      "   83262  67487  55801  68448 122987  14947  78558   5733  90970  78986\n",
      "   71740  40668  97105  91916 117504  15141 123632  97684  69675  80598\n",
      "  120115 116935 102693 120990 115364  43809  46651  88107  78339  22511\n",
      "  117562  32594  20455  27660  12636  68944   6546  51119  76204  81887\n",
      "   85421  31013 108608 105494 131330  85029  98965  18117  50070  72027\n",
      "   40376  31862  95600  19831 103480   1370  27123   6188  83854  78755\n",
      "   44545  23909 116232  86901 109866  87562 104323   2775   6634  18084\n",
      "  122300  72750   7965  17822 128484  85232  69554  30099  93598   6484\n",
      "    8054 100341  64479 124927  38021 127168  75061  71267  78532  32556\n",
      "   44959   1712  56139  16353  54738  29030  25067   9414 104290  45484\n",
      "   86123  10967  45232  57445  41530  70987  19665  48491  77953 118303\n",
      "    8038  56732  13188  40033  18749  67939 115268  29478  45877  41721\n",
      "   16963 103920 103631 130858 130613   6789   4769  95052  95371  80500\n",
      "   27827  47162 120871  15928  13200  71328  12402 120683   6131  21355\n",
      "   53797  77494  16995  14278 117947  91957  45094  90452  81580  46569\n",
      "  122853  91704    109 108947 105218  71507  25596  53651  92858  24445\n",
      "   33004  29232  50240  66106  51867  49484  39123  57586  92410  70951\n",
      "    2917  84817   2946  90321  76150  53431  53273 106213  17965  34490]\n",
      " [  2781   1556 122987      0  19831  18117  51119 131330  31013  27123\n",
      "   86953  43809  46651  68448 102693  32594  92715 108608 103480  14947\n",
      "  117562 118391  42881   9414  76204 127168  75061  40668 117504 124927\n",
      "   85151  85232  55801  97684 122853  17822  69554 128484  16621 115364\n",
      "  123632  16995  87562  80598  39123 109866  78755  99714 116935  32556\n",
      "  120115   7965  67487  53651  69675  72750  85029  98965  18749  85421\n",
      "    6484  12636  38021  53431  70951  31862  64479  72027  40376 124283\n",
      "   83854  15928   1712  57778  49484  33004  10815  47162  23909  71507\n",
      "   55732  66667  75589   2775  51867  25067  51206  11763  44545  29232\n",
      "   91704  97650  22511 117947  40033 131088  57881 103920 130613  68944\n",
      "    4769  28846  56732 100450   8038 109280  78986  78558  81396  15789\n",
      "    5733  15543  55084  39580  95052  27660  90970  43745  27827  13188\n",
      "   19665  34490  62665  86861 106707 104323   4167 128495 128790  71328\n",
      "   83262  82061 126481 124321  71599  81580  13168  79310  97065  10222\n",
      "  122300    109   8984  77494  24445  68403  55326  86709  14007  56139\n",
      "  116645 117316  92858  89179  74380  46712 116081  88107  62885 116232\n",
      "  114471  88585  75815 108728  50070  49813  58927   6546  84817  45493\n",
      "  103132  20455 127600  49091  85950  99928  97105  68975 122653  23781\n",
      "   71740  18463 121839 118303  48491  77212  21365  91916    413  15141\n",
      "   75057  16963 114422   9900 110644  95600   1370  35431  45484 108947]\n",
      " [110095  68123 127810 100818  55540 129382 108250    126  15589  47252\n",
      "    3113  71171 103465  81167  54903 118986  40649  18808 101631  15557\n",
      "   11666  54966 102616   5559  61401  20848  78040 101722  91984  67562\n",
      "   12669  53983 107723  13500  56558 105071 103385   5432  35082  15079\n",
      "  107095  63060  31431  33035 118493  74858  74016  64473 107940 115875\n",
      "   64392 117761  59580  10747 126311  90513  49875  23308  23903  51964\n",
      "    9982 115920  11634  58645  18288  76446  74934  61988 105757   9804\n",
      "   81683  66062 116427  25698   8280 117226  56944  54758  31550 109286\n",
      "   10052  24357   6445      1  34912 125195  32822  98737 122731  31802\n",
      "   53560 119728 117296  55046  54327  28045  39910  31434 113005  37587\n",
      "  114869  19454  52362 105703  52032  61850  19052  76054  90217  42548\n",
      "   33470  21359  21109  32461  42296 129900  88908  54676 113553  45914\n",
      "   53982 109821   9940  63656  52811  75045  52291  18950  43301  71353\n",
      "   35005  19723 125039   1338  99328   9128  95979  96532  92406  13078\n",
      "   62720   8695  38529   5897  26487 113886  45156  81309  12719   3138\n",
      "     980  35251 106659  52854  60800  35038  28495  34644 130761  60622\n",
      "  126685 128692  11682 122796 123614  65894 119977 122505  92461  92219\n",
      "   60096  65065  87458  38878  10664  17297  16744   3732  90520  63540\n",
      "   55038  20298  46811  62189  76862  79012   2051  73889  43782 107593\n",
      "   61774  72596  43983  18706  51693 105163 103122  61061   5063  11620]\n",
      " [ 96159 131167  94001  61244 105703  39071   5897 105630   9384  59860\n",
      "    5063  95979    980  33470  63568  88908  23793 130761  28495 127742\n",
      "   46811  60800  98963  91789   8695  32266 116049  40782  22465 103970\n",
      "   81143  67198 124435  38878  61850 100891   2051  75841 122096  33122\n",
      "   94402  30575  24620   5025  90796 109012   8568  13437  65065  40812\n",
      "   93849  11620  23494  61061  71673  36427 113832 107161  65138  92219\n",
      "  109605  39180   2941  14985 115273  98468  26602 118611  51094  43774\n",
      "  103830 128184  17380  13641  82264 114410 104853  50974  32455  91106\n",
      "  110364  32952  93892 115160  90856  31660  41437  82162  85739 108709\n",
      "    2761  29549  54789  64853 131218  98462  84853  84529  45934  68688\n",
      "   52966    975 112087  49219  69649  60025  12598  27128  55504  29504\n",
      "   73480 118010  58915  41827  49671 110878  49299  32128   9262  11426\n",
      "  118268 115827 130132  31519  40466  23986 128793  18477  82859  79470\n",
      "   64390  19131  92228   3200  38218  36081  84542  30829  28832  79138\n",
      "  116111  79868 125679  75263 127763  73558   9641  99291  12202   8812\n",
      "  121221  44338  47058  79341  50585  78082   4129  22783  31686  26623\n",
      "   76725 128782  69984 103210  56668  46446  99806  70845  16127 125806\n",
      "   13514  66975 118135  33273  23133  64020  49037  31658  48608  14390\n",
      "   74108 127425 122319 122873  57102  25671  19622 118794  98793 118055\n",
      "   13099  96192  95115  19055  49985  93931 110934 108774 109956  76407]]\n"
     ]
    }
   ],
   "source": [
    "query =  xb[[ 0, 2781, 110095 , 96159 ]]\n",
    "D, I = index.search(query, k) # sanity check\n",
    "print(I[:4])"
   ]
  },
  {
   "cell_type": "markdown",
   "metadata": {},
   "source": [
    "# Potential Cluster Quality Measurement"
   ]
  },
  {
   "cell_type": "code",
   "execution_count": 16,
   "metadata": {},
   "outputs": [],
   "source": [
    "# homogeneity\n",
    "# https://github.trendmicro.com/muqeeta/Fuzzy_research/blob/master/tlsh_analysis_notebooks/tlsh_analysis_forest_clustering.ipynb"
   ]
  },
  {
   "cell_type": "code",
   "execution_count": 17,
   "metadata": {},
   "outputs": [],
   "source": [
    "# purity\n",
    "# https://github.trendmicro.com/muqeeta/Fuzzy_research/blob/master/tlsh_analysis_notebooks/tlsh_analysis_malware_family.ipynb"
   ]
  },
  {
   "cell_type": "code",
   "execution_count": 18,
   "metadata": {},
   "outputs": [],
   "source": [
    "# silhouette_score\n",
    "#https://github.trendmicro.com/muqeeta/Fuzzy_research/blob/master/KMeans/KMeans_MP.py"
   ]
  }
 ],
 "metadata": {
  "kernelspec": {
   "display_name": "Python 3",
   "language": "python",
   "name": "python3"
  },
  "language_info": {
   "codemirror_mode": {
    "name": "ipython",
    "version": 3
   },
   "file_extension": ".py",
   "mimetype": "text/x-python",
   "name": "python",
   "nbconvert_exporter": "python",
   "pygments_lexer": "ipython3",
   "version": "3.7.3"
  }
 },
 "nbformat": 4,
 "nbformat_minor": 5
}
