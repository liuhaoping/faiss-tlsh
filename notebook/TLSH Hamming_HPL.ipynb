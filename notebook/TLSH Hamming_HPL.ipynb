{
 "cells": [
  {
   "cell_type": "code",
   "execution_count": 7,
   "id": "1481e00c",
   "metadata": {
    "scrolled": true
   },
   "outputs": [],
   "source": [
    "import tlsh\n",
    "import random\n",
    "import numpy\n",
    "from scipy.spatial import distance"
   ]
  },
  {
   "cell_type": "markdown",
   "id": "6c398951",
   "metadata": {},
   "source": [
    "# Get the histogram of buckets"
   ]
  },
  {
   "cell_type": "code",
   "execution_count": 3,
   "id": "20fef7f1",
   "metadata": {
    "scrolled": false
   },
   "outputs": [
    {
     "name": "stdout",
     "output_type": "stream",
     "text": [
      "72 T1EB36D022C140901AE8F756FD42BA43BAFCB46E31357498F77DEBE918C42B694C9106B7\n",
      "64 22C140901AE8F756FD42BA43BAFCB46E31357498F77DEBE918C42B694C9106B7\n"
     ]
    }
   ],
   "source": [
    "#t1 = tlsh.hash(random.randbytes(1024))\n",
    "t1 = 'T1EB36D022C140901AE8F756FD42BA43BAFCB46E31357498F77DEBE918C42B694C9106B7'\n",
    "print(len(t1),t1)\n",
    "ex = t1[8:]\n",
    "print(len(ex),ex)"
   ]
  },
  {
   "cell_type": "code",
   "execution_count": 4,
   "id": "5ca9a465",
   "metadata": {},
   "outputs": [
    {
     "name": "stdout",
     "output_type": "stream",
     "text": [
      "0b10\n",
      "\n"
     ]
    }
   ],
   "source": [
    "def to_bucket(hex):\n",
    "    return int(bin(int(hex,16))[2:4],2), int(bin(int(hex,16))[4:6],2)\n",
    "\n",
    "#[to_bucket(hex) for hex in ex]\n",
    "# print(to_bucket(ex[0]))\n",
    "print(bin(int(ex[0],16)))\n",
    "print(bin(int(ex[0],16))[4:6])"
   ]
  },
  {
   "cell_type": "code",
   "execution_count": 5,
   "id": "f5f1f2a2",
   "metadata": {},
   "outputs": [],
   "source": [
    "def to_hist(t):\n",
    "    buckets = numpy.zeros(128, dtype=numpy.int32)\n",
    "    for idx, (sixteen, one) in enumerate(zip(t[0::2], t[1::2])):\n",
    "        buckets[4 * idx] = (int(sixteen,16) & 0x0C) >> 2\n",
    "        buckets[4 * idx + 1] = (int(sixteen,16) & 0x03)\n",
    "        buckets[4 * idx + 2] = (int(one,16) & 0x0C) >> 2\n",
    "        buckets[4 * idx + 3] = (int(one,16) & 0x03)\n",
    "    return buckets"
   ]
  },
  {
   "cell_type": "code",
   "execution_count": 8,
   "id": "ff73c2fb",
   "metadata": {
    "scrolled": false
   },
   "outputs": [
    {
     "name": "stdout",
     "output_type": "stream",
     "text": [
      "128\n"
     ]
    },
    {
     "data": {
      "text/plain": [
       "array([0, 2, 0, 2, 3, 0, 0, 1, 1, 0, 0, 0, 2, 1, 0, 0, 0, 1, 2, 2, 3, 2,\n",
       "       2, 0, 3, 3, 1, 3, 1, 1, 1, 2, 3, 3, 3, 1, 1, 0, 0, 2, 2, 3, 2, 2,\n",
       "       1, 0, 0, 3, 2, 3, 2, 2, 3, 3, 3, 0, 2, 3, 1, 0, 1, 2, 3, 2, 0, 3,\n",
       "       0, 1, 0, 3, 1, 1, 1, 3, 1, 0, 2, 1, 2, 0, 3, 3, 1, 3, 1, 3, 3, 1,\n",
       "       3, 2, 2, 3, 3, 2, 2, 1, 0, 1, 2, 0, 3, 0, 1, 0, 0, 2, 2, 3, 1, 2,\n",
       "       2, 1, 1, 0, 3, 0, 2, 1, 0, 1, 0, 0, 1, 2, 2, 3, 1, 3], dtype=int32)"
      ]
     },
     "execution_count": 8,
     "metadata": {},
     "output_type": "execute_result"
    }
   ],
   "source": [
    "buk = to_hist(ex)\n",
    "print(len(buk))\n",
    "buk"
   ]
  },
  {
   "cell_type": "markdown",
   "id": "fcfe35d8",
   "metadata": {},
   "source": [
    "# A Hamming approximation of TLSH distance"
   ]
  },
  {
   "cell_type": "code",
   "execution_count": 56,
   "id": "aeb5f582",
   "metadata": {},
   "outputs": [],
   "source": [
    "def hamming_three(buckets):\n",
    "    ham = numpy.zeros(3 * 128, dtype=numpy.bool_)\n",
    "    for idx, val in enumerate(buckets):\n",
    "        if val == 3:\n",
    "            ham[3 * idx + 2] = 1\n",
    "        if val >= 2:\n",
    "            ham[3 * idx + 1] = 1\n",
    "        if val >= 1:\n",
    "            ham[3 * idx] = 1\n",
    "    return ham"
   ]
  },
  {
   "cell_type": "code",
   "execution_count": 115,
   "id": "5baf57b9",
   "metadata": {},
   "outputs": [],
   "source": [
    "# hamming_three(buk)"
   ]
  },
  {
   "cell_type": "code",
   "execution_count": 59,
   "id": "906d9e26",
   "metadata": {},
   "outputs": [],
   "source": [
    "t2 = tlsh.hash(random.randbytes(1024))\n",
    "ex2 = t2[8:]"
   ]
  },
  {
   "cell_type": "code",
   "execution_count": 71,
   "id": "02c0de94",
   "metadata": {},
   "outputs": [],
   "source": [
    "buk2 = to_hist(ex2)"
   ]
  },
  {
   "cell_type": "code",
   "execution_count": 72,
   "id": "17c726f8",
   "metadata": {
    "scrolled": true
   },
   "outputs": [
    {
     "data": {
      "text/plain": [
       "155.0"
      ]
     },
     "execution_count": 72,
     "metadata": {},
     "output_type": "execute_result"
    }
   ],
   "source": [
    "distance.hamming(hamming_three(buk),hamming_three(buk2)) * 3 * 128"
   ]
  },
  {
   "cell_type": "markdown",
   "id": "2403301f",
   "metadata": {},
   "source": [
    "# Another Hamming Distance, weighting extremes more"
   ]
  },
  {
   "cell_type": "code",
   "execution_count": 69,
   "id": "deb71731",
   "metadata": {},
   "outputs": [],
   "source": [
    "def hamming_five(buckets):\n",
    "    ham = numpy.zeros(5 * 128, dtype=numpy.bool_)\n",
    "    for idx, val in enumerate(buckets):\n",
    "        if val == 3:\n",
    "            ham[5 * idx + 4] = 1\n",
    "            ham[5 * idx + 3] = 1\n",
    "        if val >= 2:\n",
    "            ham[5 * idx + 2] = 1\n",
    "        if val < 1:\n",
    "            ham[5 * idx + 1] = 1\n",
    "            ham[5 * idx] = 1\n",
    "    return ham"
   ]
  },
  {
   "cell_type": "code",
   "execution_count": 102,
   "id": "f8a513b3",
   "metadata": {
    "scrolled": false
   },
   "outputs": [
    {
     "data": {
      "text/plain": [
       "253.0"
      ]
     },
     "execution_count": 102,
     "metadata": {},
     "output_type": "execute_result"
    }
   ],
   "source": [
    "distance.hamming(hamming_five(buk),hamming_five(buk2)) * 5 * 128"
   ]
  },
  {
   "cell_type": "markdown",
   "id": "0d5b9e10",
   "metadata": {},
   "source": [
    "# Another Hamming Distance (six), weighting extremes more"
   ]
  },
  {
   "cell_type": "code",
   "execution_count": 109,
   "id": "48805e66",
   "metadata": {},
   "outputs": [
    {
     "data": {
      "text/plain": [
       "290.0"
      ]
     },
     "execution_count": 109,
     "metadata": {},
     "output_type": "execute_result"
    }
   ],
   "source": [
    "def hamming_six(buckets):\n",
    "    ham = numpy.zeros(6 * 128, dtype=numpy.bool_)\n",
    "    for idx, val in enumerate(buckets):\n",
    "        if val == 3:\n",
    "            ham[6 * idx + 5] = 1\n",
    "            ham[6 * idx + 4] = 1\n",
    "            ham[6 * idx + 3] = 1\n",
    "            ham[6 * idx + 2] = 1\n",
    "        if val >= 2:\n",
    "            ham[6 * idx + 1] = 1\n",
    "        if val > 1:\n",
    "            ham[6 * idx] = 1\n",
    "    return ham\n",
    "\n",
    "distance.hamming(hamming_six(buk),hamming_six(buk2)) * 6 * 128"
   ]
  },
  {
   "cell_type": "markdown",
   "id": "d9f4654c",
   "metadata": {},
   "source": [
    "# TLSH"
   ]
  },
  {
   "cell_type": "code",
   "execution_count": 114,
   "id": "e780f2e2",
   "metadata": {},
   "outputs": [
    {
     "data": {
      "text/plain": [
       "217"
      ]
     },
     "execution_count": 114,
     "metadata": {},
     "output_type": "execute_result"
    }
   ],
   "source": [
    "tlsh.diff(t1,t2)"
   ]
  },
  {
   "cell_type": "code",
   "execution_count": 113,
   "id": "5e709bfa",
   "metadata": {},
   "outputs": [
    {
     "data": {
      "text/plain": [
       "186"
      ]
     },
     "execution_count": 113,
     "metadata": {},
     "output_type": "execute_result"
    }
   ],
   "source": [
    "import tlsh_distance\n",
    "distance_bodies(t1[2:],t2[2:])"
   ]
  },
  {
   "cell_type": "code",
   "execution_count": 107,
   "id": "760dbb5a",
   "metadata": {
    "scrolled": true
   },
   "outputs": [
    {
     "data": {
      "text/plain": [
       "25"
      ]
     },
     "execution_count": 107,
     "metadata": {},
     "output_type": "execute_result"
    }
   ],
   "source": [
    "distance_headers(t1[2:],t2[2:])"
   ]
  },
  {
   "cell_type": "code",
   "execution_count": 98,
   "id": "05fa8625",
   "metadata": {},
   "outputs": [
    {
     "name": "stdout",
     "output_type": "stream",
     "text": [
      "0010 1111\n",
      "tlsh_distance on body: 7 (6, 1)\n"
     ]
    }
   ],
   "source": [
    "get_bin = lambda x, n: format(x, 'b').zfill(n)\n",
    "a = get_bin(2,4)\n",
    "b = get_bin(15,4) \n",
    "print(a,b)\n",
    "\n",
    "#tlsh distance on body\t\n",
    "d1 = 6 if (abs(int(a,2)//4\t- int(b,2)//4) == 3) else  abs(int(a,2)//4\t- int(b,2)//4) \n",
    "d2 = 6 if (abs(int(a,2)%4\t- int(b,2)%4) ==3) else abs(int(a,2)%4\t- int(b,2)%4)      \n",
    "print(\"tlsh_distance on body:\", d1+d2, (d1,d2))          #8"
   ]
  },
  {
   "cell_type": "code",
   "execution_count": 101,
   "id": "f35465e2",
   "metadata": {},
   "outputs": [
    {
     "name": "stdout",
     "output_type": "stream",
     "text": [
      "hamming_distance1: 3\n",
      "hamming_distance2: 3\n",
      "l2 distance : 13\n",
      "adjust_l2_distance : 4\n"
     ]
    }
   ],
   "source": [
    "def hamming_distance1(chaine1, chaine2):\n",
    "\treturn sum(c1 != c2 for c1, c2 in zip(chaine1, chaine2))\n",
    "\t\n",
    "def hamming_distance2(chaine1, chaine2):\n",
    "\treturn len(list(filter(lambda x : ord(x[0])^ord(x[1]), zip(chaine1, chaine2))))\n",
    "\n",
    "#hamming distance for body\t\n",
    "print(\"hamming_distance1:\", hamming_distance1(a,b))  \n",
    "print(\"hamming_distance2:\", hamming_distance2(a,b))  \n",
    "\n",
    "#eculidance distance for body\t\n",
    "print(\"l2 distance :\", abs(int(a,2) - int(b,2)))    \n",
    "print(\"adjust_l2_distance :\", abs(int(a,2)//4 - int(b,2)//4) + abs(int(a,2)%4 - int(b,2)%4))    "
   ]
  }
 ],
 "metadata": {
  "kernelspec": {
   "display_name": "Python 3",
   "language": "python",
   "name": "python3"
  },
  "language_info": {
   "codemirror_mode": {
    "name": "ipython",
    "version": 3
   },
   "file_extension": ".py",
   "mimetype": "text/x-python",
   "name": "python",
   "nbconvert_exporter": "python",
   "pygments_lexer": "ipython3",
   "version": "3.8.11"
  }
 },
 "nbformat": 4,
 "nbformat_minor": 5
}
