{
 "cells": [
  {
   "cell_type": "markdown",
   "id": "b045f7c5",
   "metadata": {},
   "source": [
    "# IndexBinaryFlat\n",
    "The \"flat\" binary index performs an exhaustive search.\n",
    "\n",
    "The exhaustive search is carefully optimized especially for 256-bit vectors that are quite common. The Hamming distance computations are optimized using popcount CPU instructions.\n",
    "\n",
    "Batching is applied on the query and the database side to avoid cache misses.\n",
    "\n",
    "The values of hamming_batch_size and faiss::IndexBinaryFlat#query_batch_size can be customized to adjust the batch sizes but the default values were found to be close to optimal for a large range of settings.\n",
    "\n",
    "https://github.com/facebookresearch/faiss/wiki/Binary-indexes"
   ]
  },
  {
   "cell_type": "code",
   "execution_count": 1,
   "id": "73064456",
   "metadata": {},
   "outputs": [],
   "source": [
    "import faiss                   \n",
    "import numpy as np\n",
    "import pandas as pd\n",
    "import time\n",
    "import tlsh\n",
    "from tools import *"
   ]
  },
  {
   "cell_type": "code",
   "execution_count": null,
   "id": "bd2b5384",
   "metadata": {},
   "outputs": [],
   "source": []
  },
  {
   "cell_type": "code",
   "execution_count": 15,
   "id": "5e1d0c63",
   "metadata": {},
   "outputs": [
    {
     "name": "stdout",
     "output_type": "stream",
     "text": [
      "(100, 32)\n",
      "[[ 80 194  43  41  40 127   0   0  80 194  43  41  40 127   0   0 128  99\n",
      "   88 146 120  85   0   0 128  99  88 146 120  85   0   0]]\n",
      "[[ 0  4 96]\n",
      " [ 1  4 13]\n",
      " [ 2 14  5]\n",
      " [ 3 15  6]\n",
      " [ 4  1 16]]\n",
      "[[ 0 73 74]\n",
      " [ 0 21 35]\n",
      " [ 0 24 26]\n",
      " [ 0 28 28]\n",
      " [ 0 21 27]]\n"
     ]
    }
   ],
   "source": [
    "nb = 100\n",
    "d = 256\n",
    "\n",
    "db = np.empty((nb, d // 8), dtype='uint8')\n",
    "print(db.shape)\n",
    "print(db[:1])\n",
    "\n",
    "nq = 100\n",
    "queries = np.empty((nq, d // 8), dtype='uint8')\n",
    "\n",
    "# Initializing index.\n",
    "index = faiss.IndexBinaryFlat(d)\n",
    "\n",
    "# Adding the database vectors.\n",
    "index.add(db)\n",
    "\n",
    "# Number of nearest neighbors to retrieve per query vector.\n",
    "k = 3\n",
    "# Querying the index\n",
    "D, I = index.search(db, k)  #sanity test\n",
    "print(I[:5])\n",
    "print(D[:5])\n",
    "# D, I = inde\n",
    "# D, I = index.search(queries, k)"
   ]
  },
  {
   "cell_type": "code",
   "execution_count": null,
   "id": "231162f1",
   "metadata": {},
   "outputs": [],
   "source": []
  },
  {
   "cell_type": "code",
   "execution_count": null,
   "id": "0804ec06",
   "metadata": {},
   "outputs": [],
   "source": []
  },
  {
   "cell_type": "code",
   "execution_count": 18,
   "id": "bd00563d",
   "metadata": {},
   "outputs": [
    {
     "name": "stdout",
     "output_type": "stream",
     "text": [
      "(100, 8)\n",
      "[[224  93  67 146 120  85   0   0]]\n",
      "[[ 0  4  1]\n",
      " [ 1  5  4]\n",
      " [ 2  4  1]\n",
      " [ 3 75 76]\n",
      " [ 4  2  1]]\n",
      "[[ 0 20 22]\n",
      " [ 0  0  4]\n",
      " [ 0  3  7]\n",
      " [ 0 24 25]\n",
      " [ 0  3  4]]\n"
     ]
    }
   ],
   "source": [
    "nb = 100\n",
    "d = 64\n",
    "\n",
    "db = np.empty((nb, d//8), dtype='uint8')\n",
    "print(db.shape)\n",
    "print(db[:1])\n",
    "\n",
    "# Initializing index.\n",
    "index = faiss.IndexBinaryFlat(d)\n",
    "\n",
    "# Adding the database vectors.\n",
    "index.add(db)\n",
    "\n",
    "# Number of nearest neighbors to retrieve per query vector.\n",
    "k = 3\n",
    "# Querying the index\n",
    "D, I = index.search(db, k)  #sanity test\n",
    "print(I[:5])\n",
    "print(D[:5])\n",
    "# D, I = inde\n",
    "# D, I = index.search(queries, k)"
   ]
  },
  {
   "cell_type": "code",
   "execution_count": null,
   "id": "378a4a1c",
   "metadata": {},
   "outputs": [],
   "source": []
  },
  {
   "cell_type": "markdown",
   "id": "1fa337c8",
   "metadata": {},
   "source": [
    "# Below are IndexLSH"
   ]
  },
  {
   "cell_type": "markdown",
   "id": "c2f68588",
   "metadata": {},
   "source": [
    "# Dummy Data Testing"
   ]
  },
  {
   "cell_type": "code",
   "execution_count": 145,
   "id": "46f3f8e7",
   "metadata": {
    "scrolled": true
   },
   "outputs": [
    {
     "data": {
      "text/plain": [
       "array([[ 4., 11.,  6.,  1.,  2., 15.,  9.,  3.,  8.,  3.,  9., 13.,  3.,\n",
       "        11., 12.,  8.,  1., 15.,  8.,  1., 15.,  6., 11.,  5.,  5., 13.,\n",
       "         0.,  0., 14., 10.,  8.,  0.,  4.,  7., 13., 11.,  1., 11.,  6.,\n",
       "        13.,  6.,  0.,  3.,  1.,  9., 13.,  2.,  8.,  5.,  0.,  3., 15.,\n",
       "        12.,  1.,  3.,  8.,  2.,  2.,  2.,  5., 11., 15.,  8., 13.,  9.,\n",
       "         2., 11.,  9.,  6., 11.]], dtype=float32)"
      ]
     },
     "execution_count": 145,
     "metadata": {},
     "output_type": "execute_result"
    }
   ],
   "source": [
    "import secrets\n",
    "def gen_data(N):\n",
    "    hash_list = []\n",
    "    for i in range(N):\n",
    "        hash = secrets.token_hex(int(d/2))\n",
    "        hash_list.append(convert_to_array(hash))\n",
    "    return np.array(hash_list).astype('float32')\n",
    "  \n",
    "xb = gen_data(10000, d)\n",
    "xb[:1]"
   ]
  },
  {
   "cell_type": "code",
   "execution_count": null,
   "id": "f144e3d0",
   "metadata": {},
   "outputs": [],
   "source": [
    "d = 70                         # dimension\n",
    "n_bits = 2*d "
   ]
  },
  {
   "cell_type": "code",
   "execution_count": 148,
   "id": "42a53a87",
   "metadata": {
    "scrolled": true
   },
   "outputs": [
    {
     "name": "stdout",
     "output_type": "stream",
     "text": [
      "[[ 0 80 49]\n",
      " [ 1 41 32]\n",
      " [ 2 32 25]\n",
      " [ 3 20 21]\n",
      " [ 4 92 41]]\n"
     ]
    }
   ],
   "source": [
    "index = faiss.IndexLSH(d, n_bits)   # build the index\n",
    "# index.train(xb)\n",
    "index.add(xb)                  # add vectors to the index\n",
    "D, I = index.search(xb, k) # sanity check\n",
    "print(I[:5])\n",
    "# print(D)"
   ]
  },
  {
   "cell_type": "code",
   "execution_count": 149,
   "id": "6ae59e0d",
   "metadata": {
    "scrolled": false
   },
   "outputs": [
    {
     "name": "stdout",
     "output_type": "stream",
     "text": [
      "dataframe shape : 100,70\n",
      " recall at 1:  1.0000,  missing rate: 0.0000\n"
     ]
    }
   ],
   "source": [
    "evaluate(I, pd.DataFrame(xb))"
   ]
  },
  {
   "cell_type": "code",
   "execution_count": 152,
   "id": "a2fb0a7e",
   "metadata": {
    "scrolled": false
   },
   "outputs": [
    {
     "name": "stdout",
     "output_type": "stream",
     "text": [
      "[[ 0 80 49]\n",
      " [ 1 41 32]\n",
      " [ 2 32 25]\n",
      " [ 3 20 21]\n",
      " [ 4 92 41]]\n"
     ]
    }
   ],
   "source": [
    "xb = (xb/15)\n",
    "\n",
    "index = faiss.IndexLSH(d, n_bits)   # build the index\n",
    "index.add(xb)                  # add vectors to the index\n",
    "D, I = index.search(xb, k) # sanity check\n",
    "print(I[:5])\n",
    "# print(D)"
   ]
  },
  {
   "cell_type": "code",
   "execution_count": 153,
   "id": "fe912d7b",
   "metadata": {},
   "outputs": [
    {
     "name": "stdout",
     "output_type": "stream",
     "text": [
      "dataframe shape : 100,70\n",
      " recall at 1:  1.0000,  missing rate: 0.0000\n"
     ]
    }
   ],
   "source": [
    "evaluate(I, pd.DataFrame(xb))"
   ]
  },
  {
   "cell_type": "markdown",
   "id": "3c9d60a5",
   "metadata": {},
   "source": [
    "# Malware Data Testing"
   ]
  },
  {
   "cell_type": "code",
   "execution_count": 154,
   "id": "e4acf803",
   "metadata": {
    "scrolled": false
   },
   "outputs": [
    {
     "name": "stdout",
     "output_type": "stream",
     "text": [
      "(132134, 3)\n"
     ]
    },
    {
     "data": {
      "text/html": [
       "<div>\n",
       "<style scoped>\n",
       "    .dataframe tbody tr th:only-of-type {\n",
       "        vertical-align: middle;\n",
       "    }\n",
       "\n",
       "    .dataframe tbody tr th {\n",
       "        vertical-align: top;\n",
       "    }\n",
       "\n",
       "    .dataframe thead th {\n",
       "        text-align: right;\n",
       "    }\n",
       "</style>\n",
       "<table border=\"1\" class=\"dataframe\">\n",
       "  <thead>\n",
       "    <tr style=\"text-align: right;\">\n",
       "      <th></th>\n",
       "      <th>sha1_hash</th>\n",
       "      <th>tlsh</th>\n",
       "      <th>signature</th>\n",
       "    </tr>\n",
       "  </thead>\n",
       "  <tbody>\n",
       "    <tr>\n",
       "      <th>0</th>\n",
       "      <td>003411d0a9610cfe8a027a364b46c489fa034502</td>\n",
       "      <td>AF74AD89B6257A65DE3A727411C78FC1B994D007602253...</td>\n",
       "      <td>Quakbot</td>\n",
       "    </tr>\n",
       "  </tbody>\n",
       "</table>\n",
       "</div>"
      ],
      "text/plain": [
       "                                  sha1_hash  \\\n",
       "0  003411d0a9610cfe8a027a364b46c489fa034502   \n",
       "\n",
       "                                                tlsh signature  \n",
       "0  AF74AD89B6257A65DE3A727411C78FC1B994D007602253...   Quakbot  "
      ]
     },
     "execution_count": 154,
     "metadata": {},
     "output_type": "execute_result"
    }
   ],
   "source": [
    "df=pd.read_csv(\"malware_bazaar.csv\",header=0)\n",
    "print(df.shape)\n",
    "df[:1]"
   ]
  },
  {
   "cell_type": "markdown",
   "id": "62533601",
   "metadata": {},
   "source": [
    "## 70 Hex chars as Input"
   ]
  },
  {
   "cell_type": "code",
   "execution_count": 156,
   "id": "e70013b3",
   "metadata": {
    "scrolled": true
   },
   "outputs": [
    {
     "name": "stdout",
     "output_type": "stream",
     "text": [
      "(132134, 70)\n"
     ]
    }
   ],
   "source": [
    "xb = df['tlsh'].apply(convert_to_array)\n",
    "xb = np.array(xb.tolist()).astype('float32')\n",
    "print(xb.shape)"
   ]
  },
  {
   "cell_type": "code",
   "execution_count": 157,
   "id": "88028ce3",
   "metadata": {},
   "outputs": [
    {
     "name": "stdout",
     "output_type": "stream",
     "text": [
      "[[ 1053  1190     0]\n",
      " [    1 24118 35005]\n",
      " [    2 89364  3926]\n",
      " [10600 11197     3]\n",
      " [18609 19442     4]]\n"
     ]
    }
   ],
   "source": [
    "index = faiss.IndexLSH(d, n_bits)   # build the index\n",
    "index.add(xb)                  # add vectors to the index\n",
    "D, I = index.search(xb, k) # sanity check\n",
    "print(I[:5])"
   ]
  },
  {
   "cell_type": "code",
   "execution_count": 158,
   "id": "2f0681bc",
   "metadata": {},
   "outputs": [
    {
     "name": "stdout",
     "output_type": "stream",
     "text": [
      "dataframe shape : 132134,70\n",
      " recall at 1:  0.7907,  missing rate: 0.0000\n"
     ]
    }
   ],
   "source": [
    "evaluate(I, pd.DataFrame(xb))"
   ]
  },
  {
   "cell_type": "markdown",
   "id": "b2a54868",
   "metadata": {},
   "source": [
    "## 140 Buckets as Input (Header + Body)"
   ]
  },
  {
   "cell_type": "code",
   "execution_count": 211,
   "id": "81fc7fe6",
   "metadata": {},
   "outputs": [],
   "source": [
    "def to_hist(t, length):\n",
    "    buckets = np.zeros(length, dtype=np.int32)\n",
    "    for idx, (sixteen, one) in enumerate(zip(t[0::2], t[1::2])):\n",
    "        buckets[4 * idx] = (int(sixteen,16) & 0x0C) >> 2\n",
    "        buckets[4 * idx + 1] = (int(sixteen,16) & 0x03)\n",
    "        buckets[4 * idx + 2] = (int(one,16) & 0x0C) >> 2\n",
    "        buckets[4 * idx + 3] = (int(one,16) & 0x03)\n",
    "    return buckets"
   ]
  },
  {
   "cell_type": "code",
   "execution_count": 219,
   "id": "bbbe37fd",
   "metadata": {
    "scrolled": true
   },
   "outputs": [
    {
     "name": "stdout",
     "output_type": "stream",
     "text": [
      "(132134, 140)\n",
      "[[     0 127168   2781]\n",
      " [     1  24118  67562]\n",
      " [     2  25683  53636]\n",
      " [     3 110150  11197]\n",
      " [     4  45416  19442]]\n",
      "dataframe shape : 132134,140\n",
      " recall at 1:  0.9477,  missing rate: 0.0000\n"
     ]
    }
   ],
   "source": [
    "xb = df['tlsh'].apply(to_hist, args=(140,))\n",
    "xb = np.array(xb.tolist()).astype('float32')\n",
    "print(xb.shape)\n",
    "\n",
    "d = 140                         # dimension\n",
    "n_bits = 2*d \n",
    "\n",
    "index = faiss.IndexLSH(d, n_bits)   # build the index\n",
    "index.add(xb)                  # add vectors to the index\n",
    "D, I = index.search(xb, k) # sanity check\n",
    "print(I[:5])\n",
    "evaluate(I, pd.DataFrame(xb))"
   ]
  }
 ],
 "metadata": {
  "kernelspec": {
   "display_name": "Python 3",
   "language": "python",
   "name": "python3"
  },
  "language_info": {
   "codemirror_mode": {
    "name": "ipython",
    "version": 3
   },
   "file_extension": ".py",
   "mimetype": "text/x-python",
   "name": "python",
   "nbconvert_exporter": "python",
   "pygments_lexer": "ipython3",
   "version": "3.8.11"
  }
 },
 "nbformat": 4,
 "nbformat_minor": 5
}
