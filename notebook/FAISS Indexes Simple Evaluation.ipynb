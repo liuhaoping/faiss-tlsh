{
 "cells": [
  {
   "cell_type": "markdown",
   "id": "75d30a8c",
   "metadata": {},
   "source": [
    "# FAISS Indexes Simple Evaluation \n",
    "\n",
    "https://github.com/facebookresearch/faiss/wiki/Faiss-indexes#indexlsh-and-its-relationship-with-cell-probe-methods"
   ]
  },
  {
   "cell_type": "code",
   "execution_count": 28,
   "id": "6ea635e6",
   "metadata": {},
   "outputs": [],
   "source": [
    "import faiss                   # make faiss available\n",
    "import numpy as np\n",
    "d = 64                           # dimension\n",
    "nb = 100000                      # database size\n",
    "nq = 10000                       # nb of queries\n",
    "np.random.seed(1234)             # make reproducible\n",
    "xb = np.random.random((nb, d)).astype('float32')\n",
    "xb[:, 0] += np.arange(nb) / 1000.\n",
    "xq = np.random.random((nq, d)).astype('float32')\n",
    "xq[:, 0] += np.arange(nq) / 1000.\n",
    "\n",
    "k = 4                          # we want to see 4 nearest neighbors"
   ]
  },
  {
   "cell_type": "code",
   "execution_count": 29,
   "id": "b8794121",
   "metadata": {
    "scrolled": true
   },
   "outputs": [
    {
     "data": {
      "text/plain": [
       "array([0.19151945, 0.62210876, 0.43772775, 0.7853586 , 0.77997583,\n",
       "       0.2725926 , 0.27646425, 0.8018722 , 0.95813936, 0.87593263,\n",
       "       0.35781726, 0.5009951 , 0.6834629 , 0.71270204, 0.37025076,\n",
       "       0.5611962 , 0.50308317, 0.01376845, 0.7728266 , 0.8826412 ,\n",
       "       0.364886  , 0.6153962 , 0.07538124, 0.368824  , 0.9331401 ,\n",
       "       0.65137815, 0.39720258, 0.78873014, 0.31683612, 0.56809866,\n",
       "       0.8691274 , 0.4361734 , 0.8021476 , 0.14376682, 0.70426095,\n",
       "       0.7045813 , 0.21879211, 0.92486763, 0.44214076, 0.90931594,\n",
       "       0.05980922, 0.18428709, 0.04735528, 0.6748809 , 0.59462476,\n",
       "       0.5333102 , 0.04332406, 0.5614331 , 0.32966843, 0.5029668 ,\n",
       "       0.11189432, 0.6071937 , 0.5659447 , 0.00676406, 0.6174417 ,\n",
       "       0.9121229 , 0.7905241 , 0.99208146, 0.95880175, 0.7919641 ,\n",
       "       0.28525096, 0.62491673, 0.4780938 , 0.19567518], dtype=float32)"
      ]
     },
     "execution_count": 29,
     "metadata": {},
     "output_type": "execute_result"
    }
   ],
   "source": [
    "xb[0]"
   ]
  },
  {
   "cell_type": "markdown",
   "id": "62cf9b29",
   "metadata": {},
   "source": [
    "## IndexFlatL2, Exact Search for L2"
   ]
  },
  {
   "cell_type": "code",
   "execution_count": 51,
   "id": "903b54bb",
   "metadata": {
    "scrolled": false
   },
   "outputs": [
    {
     "name": "stdout",
     "output_type": "stream",
     "text": [
      "True\n",
      "100000\n",
      "[[  0 393 363  78]\n",
      " [  1 555 277 364]\n",
      " [  2 304 101  13]\n",
      " [  3 173  18 182]\n",
      " [  4 288 370 531]]\n",
      "[[0.        7.1751738 7.20763   7.2511625]\n",
      " [0.        6.3235645 6.684581  6.799946 ]\n",
      " [0.        5.7964087 6.391736  7.2815123]\n",
      " [0.        7.2779055 7.527987  7.6628466]\n",
      " [0.        6.7638035 7.2951202 7.3688145]]\n",
      "[[ 381  207  210  477]\n",
      " [ 526  911  142   72]\n",
      " [ 838  527 1290  425]\n",
      " [ 196  184  164  359]\n",
      " [ 526  377  120  425]]\n",
      "[[6.815506  6.8894653 7.3956795 7.4290257]\n",
      " [6.6041107 6.679695  6.7209625 6.828682 ]\n",
      " [6.4703865 6.8578606 7.0043755 7.036564 ]\n",
      " [5.573681  6.407543  7.1395226 7.3555984]\n",
      " [5.409401  6.232216  6.4173393 6.5743637]]\n"
     ]
    }
   ],
   "source": [
    "index = faiss.IndexFlatL2(d)   # build the index\n",
    "print(index.is_trained)\n",
    "index.add(xb)                  # add vectors to the index\n",
    "print(index.ntotal)\n",
    "\n",
    "D, I = index.search(xb[:5], k) # sanity check\n",
    "print(I)\n",
    "print(D)\n",
    "D, I = index.search(xq, k)     # actual search\n",
    "print(I[:5])                   # neighbors of the 5 first queries\n",
    "print(D[:5])  "
   ]
  },
  {
   "cell_type": "markdown",
   "id": "34f587bd",
   "metadata": {},
   "source": [
    "## IndexHNSWFlat, Hierarchical Navigable Small World graph exploration"
   ]
  },
  {
   "cell_type": "code",
   "execution_count": 50,
   "id": "1f9050d8",
   "metadata": {},
   "outputs": [
    {
     "name": "stdout",
     "output_type": "stream",
     "text": [
      "True\n",
      "100000\n",
      "[[  0 393 363  78]\n",
      " [  1 555 364 617]\n",
      " [  2 304 101  13]\n",
      " [  3  18 182  64]\n",
      " [  4 288 178 381]]\n",
      "[[0.        7.1751738 7.20763   7.2511625]\n",
      " [0.        6.3235645 6.799946  6.884479 ]\n",
      " [0.        5.7964087 6.391736  7.2815123]\n",
      " [0.        7.527987  7.6628466 7.7909145]\n",
      " [0.        6.7638035 7.3900466 7.46482  ]]\n",
      "[[381 477 588 329]\n",
      " [526 911 142  64]\n",
      " [838 527 425 637]\n",
      " [196 184 164 281]\n",
      " [526 377 917 161]]\n",
      "[[6.8155107 7.429021  7.529812  7.660471 ]\n",
      " [6.604111  6.6797004 6.7209654 7.0770564]\n",
      " [6.470383  6.8578625 7.036566  7.2935686]\n",
      " [5.5736856 6.4075484 7.139516  7.713971 ]\n",
      " [5.409403  6.2322154 6.700432  6.730236 ]]\n"
     ]
    }
   ],
   "source": [
    "M = 10                         # number of neighbors used in the graph. A larger M is more accurate but uses more memory\n",
    "index = faiss.IndexHNSWFlat(d, M)   # build the index\n",
    "print(index.is_trained)\n",
    "index.add(xb)                  # add vectors to the index\n",
    "print(index.ntotal)\n",
    "\n",
    "k = 4                          # we want to see 4 nearest neighbors\n",
    "D, I = index.search(xb[:5], k) # sanity check\n",
    "print(I)\n",
    "print(D)\n",
    "D, I = index.search(xq, k)     # actual search\n",
    "print(I[:5])                   # neighbors of the 5 first queries\n",
    "print(D[:5])                  "
   ]
  },
  {
   "cell_type": "markdown",
   "id": "5d903324",
   "metadata": {},
   "source": [
    "## IndexLSH, Locality-Sensitive Hashing (binary flat index)"
   ]
  },
  {
   "cell_type": "code",
   "execution_count": 52,
   "id": "b5e07160",
   "metadata": {
    "scrolled": true
   },
   "outputs": [
    {
     "name": "stdout",
     "output_type": "stream",
     "text": [
      "True\n",
      "100000\n",
      "[[  0   4 392  26]\n",
      " [  1 392 798 808]\n",
      " [  2 304 918 845]\n",
      " [  3 925 768 653]\n",
      " [  4 106 155   0]]\n",
      "[[ 0. 19. 20. 20.]\n",
      " [ 0. 13. 14. 18.]\n",
      " [ 0. 15. 16. 17.]\n",
      " [ 0. 14. 18. 19.]\n",
      " [ 0. 16. 19. 19.]]\n",
      "[[1787 1947  790 1597]\n",
      " [ 576  861 1249  923]\n",
      " [ 954 1354 1685 1143]\n",
      " [ 740  753  196   55]\n",
      " [1536 1174 1534  315]]\n",
      "[[16. 17. 18. 20.]\n",
      " [13. 15. 15. 16.]\n",
      " [12. 14. 14. 14.]\n",
      " [17. 18. 18. 19.]\n",
      " [14. 16. 16. 17.]]\n"
     ]
    }
   ],
   "source": [
    "n_bits = 2 * d  \n",
    "index = faiss.IndexLSH(d, n_bits)   # build the index\n",
    "print(index.is_trained)\n",
    "index.add(xb)                  # add vectors to the index\n",
    "print(index.ntotal)\n",
    "\n",
    "k = 4                          # we want to see 4 nearest neighbors\n",
    "D, I = index.search(xb[:5], k) # sanity check\n",
    "print(I)\n",
    "print(D)\n",
    "D, I = index.search(xq, k)     # actual search\n",
    "print(I[:5])                   # neighbors of the 5 first queries\n",
    "print(D[:5])  "
   ]
  },
  {
   "cell_type": "markdown",
   "id": "6dd6f7a2",
   "metadata": {},
   "source": [
    "binary input"
   ]
  },
  {
   "cell_type": "code",
   "execution_count": 53,
   "id": "fead0f7f",
   "metadata": {
    "scrolled": false
   },
   "outputs": [
    {
     "data": {
      "text/plain": [
       "array([[0., 1., 1., 1., 1., 1., 0., 0., 1., 0., 1., 1., 0., 0., 1., 1.,\n",
       "        1., 1., 0., 0., 1., 0., 1., 1., 1., 0., 1., 1., 0., 1., 0., 1.,\n",
       "        0., 0., 1., 0., 1., 1., 1., 1., 0., 0., 0., 1., 1., 0., 1., 0.,\n",
       "        1., 0., 1., 1., 0., 0., 0., 0., 0., 1., 0., 0., 1., 0., 0., 1.],\n",
       "       [1., 1., 1., 1., 0., 1., 0., 1., 1., 0., 1., 1., 0., 0., 1., 1.,\n",
       "        0., 1., 0., 0., 0., 0., 1., 0., 0., 1., 0., 0., 0., 0., 0., 0.,\n",
       "        1., 1., 1., 0., 1., 1., 0., 0., 1., 1., 1., 1., 1., 1., 0., 0.,\n",
       "        0., 1., 0., 0., 1., 1., 0., 1., 0., 0., 1., 0., 0., 0., 0., 0.]],\n",
       "      dtype=float32)"
      ]
     },
     "execution_count": 53,
     "metadata": {},
     "output_type": "execute_result"
    }
   ],
   "source": [
    "x_query = np.random.randint(2, size=(nq,d)).astype('float32')\n",
    "x_train = np.random.randint(2, size=(nb,d)).astype('float32')\n",
    "x_train[:2]"
   ]
  },
  {
   "cell_type": "code",
   "execution_count": 63,
   "id": "02533393",
   "metadata": {
    "scrolled": true
   },
   "outputs": [
    {
     "name": "stdout",
     "output_type": "stream",
     "text": [
      "[[    0 13084 36234  9767]\n",
      " [    1 24660 98795 17454]\n",
      " [    2 51110 48727 33680]\n",
      " [    3 24183 47399 22491]\n",
      " [    4 89813 79742 30319]]\n",
      "[[ 0. 21. 23. 24.]\n",
      " [ 0. 18. 20. 21.]\n",
      " [ 0. 20. 22. 22.]\n",
      " [ 0. 19. 22. 22.]\n",
      " [ 0. 17. 19. 19.]]\n",
      "[[28196 21419 31744  6680]\n",
      " [60172 38495 51069 45648]\n",
      " [60352 57919 46759 22293]\n",
      " [44845 60311 82097 20406]\n",
      " [49435 89045 99267 86838]]\n",
      "[[19. 20. 22. 23.]\n",
      " [22. 22. 23. 23.]\n",
      " [18. 21. 21. 22.]\n",
      " [20. 21. 22. 23.]\n",
      " [19. 19. 19. 19.]]\n"
     ]
    }
   ],
   "source": [
    "n_bits = 2 * d  #The number of bits n_bits must be equal to 8, 12 or 16. The dimension d should be a multiple of m\n",
    "lsh = faiss.IndexLSH (d, n_bits)\n",
    "#lsh.train(x_train)\n",
    "lsh.add (x_train)\n",
    "D, I = lsh.search(x_train[:5], k) # sanity check\n",
    "print(I)\n",
    "print(D)\n",
    "D, I = lsh.search (x_query, k)\n",
    "print(I[:5])                   # neighbors of the 5 first queries\n",
    "print(D[:5])  "
   ]
  },
  {
   "cell_type": "code",
   "execution_count": 74,
   "id": "6f10bb25",
   "metadata": {},
   "outputs": [
    {
     "name": "stdout",
     "output_type": "stream",
     "text": [
      "0.0\n",
      "2.0\n",
      "0.0\n",
      "22.0\n"
     ]
    }
   ],
   "source": [
    "from scipy.spatial import distance\n",
    "print(distance.hamming([0, 1, 0], [0, 1, 0]) * 3)\n",
    "print(distance.hamming([1, 0, 0], [0, 1, 0]) * 3)\n",
    "print(distance.hamming(x_train[0], x_train[0]) * d )\n",
    "print(distance.hamming(x_train[0], x_train[13084]) * d )"
   ]
  }
 ],
 "metadata": {
  "kernelspec": {
   "display_name": "Python 3",
   "language": "python",
   "name": "python3"
  },
  "language_info": {
   "codemirror_mode": {
    "name": "ipython",
    "version": 3
   },
   "file_extension": ".py",
   "mimetype": "text/x-python",
   "name": "python",
   "nbconvert_exporter": "python",
   "pygments_lexer": "ipython3",
   "version": "3.8.11"
  }
 },
 "nbformat": 4,
 "nbformat_minor": 5
}
