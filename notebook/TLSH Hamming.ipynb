{
 "cells": [
  {
   "cell_type": "code",
   "execution_count": 35,
   "id": "2260a350-4f6f-44ca-96af-6564d7d40cb4",
   "metadata": {},
   "outputs": [],
   "source": [
    "import tlsh\n",
    "import random\n",
    "import numpy\n",
    "from scipy.spatial import distance"
   ]
  },
  {
   "cell_type": "markdown",
   "id": "dba585d4-a3da-4c0c-bc6b-9c0c8631fa0b",
   "metadata": {},
   "source": [
    "# Get the histogram of buckets"
   ]
  },
  {
   "cell_type": "code",
   "execution_count": 96,
   "id": "c48f3a20-ec7c-4366-931d-055989743a7d",
   "metadata": {},
   "outputs": [
    {
     "data": {
      "text/plain": [
       "'4E00032499A67AF4923C7B035C846F6EACBD54946BD65950DABCE037D3C4AE22'"
      ]
     },
     "execution_count": 96,
     "metadata": {},
     "output_type": "execute_result"
    }
   ],
   "source": [
    "t1 = tlsh.hash(random.randbytes(1024))\n",
    "ex = t1[8:]\n",
    "ex"
   ]
  },
  {
   "cell_type": "code",
   "execution_count": 97,
   "id": "141900d2-0aaa-4e18-8212-ec4825bd90bc",
   "metadata": {},
   "outputs": [],
   "source": [
    "def to_hist(t):\n",
    "    buckets = numpy.zeros(128, dtype=numpy.int32)\n",
    "    for idx, (sixteen, one) in enumerate(zip(t[0::2], t[1::2])):\n",
    "        buckets[4 * idx] = (int(sixteen,16) & 0x0C) >> 2\n",
    "        buckets[4 * idx + 1] = (int(sixteen,16) & 0x03)\n",
    "        buckets[4 * idx + 2] = (int(one,16) & 0x0C) >> 2\n",
    "        buckets[4 * idx + 3] = (int(one,16) & 0x03)\n",
    "    return buckets"
   ]
  },
  {
   "cell_type": "code",
   "execution_count": 98,
   "id": "0385315e-ba93-4d1f-b37a-58e013d7e272",
   "metadata": {},
   "outputs": [
    {
     "data": {
      "text/plain": [
       "array([1, 0, 3, 2, 0, 0, 0, 0, 0, 0, 0, 3, 0, 2, 1, 0, 2, 1, 2, 1, 2, 2,\n",
       "       1, 2, 1, 3, 2, 2, 3, 3, 1, 0, 2, 1, 0, 2, 0, 3, 3, 0, 1, 3, 2, 3,\n",
       "       0, 0, 0, 3, 1, 1, 3, 0, 2, 0, 1, 0, 1, 2, 3, 3, 1, 2, 3, 2, 2, 2,\n",
       "       3, 0, 2, 3, 3, 1, 1, 1, 1, 0, 2, 1, 1, 0, 1, 2, 2, 3, 3, 1, 1, 2,\n",
       "       1, 1, 2, 1, 1, 1, 0, 0, 3, 1, 2, 2, 2, 3, 3, 0, 3, 2, 0, 0, 0, 3,\n",
       "       1, 3, 3, 1, 0, 3, 3, 0, 1, 0, 2, 2, 3, 2, 0, 2, 0, 2], dtype=int32)"
      ]
     },
     "execution_count": 98,
     "metadata": {},
     "output_type": "execute_result"
    }
   ],
   "source": [
    "buk = to_hist(ex)\n",
    "buk"
   ]
  },
  {
   "cell_type": "markdown",
   "id": "a1438fd2-0b70-45ae-97c7-549146e1123c",
   "metadata": {},
   "source": [
    "# A Hamming approximation of TLSH distance"
   ]
  },
  {
   "cell_type": "code",
   "execution_count": 99,
   "id": "d8258364-3174-4596-96a0-56b508904e49",
   "metadata": {},
   "outputs": [],
   "source": [
    "def hamming_three(buckets):\n",
    "    ham = numpy.zeros(3 * 128, dtype=numpy.bool_)\n",
    "    for idx, val in enumerate(buckets):\n",
    "        if val == 3:\n",
    "            ham[3 * idx + 2] = 1\n",
    "        if val >= 2:\n",
    "            ham[3 * idx + 1] = 1\n",
    "        if val >= 1:\n",
    "            ham[3 * idx] = 1\n",
    "    return ham"
   ]
  },
  {
   "cell_type": "code",
   "execution_count": 100,
   "id": "c34785a1-c47a-443a-9096-3efdd861c13a",
   "metadata": {},
   "outputs": [
    {
     "data": {
      "text/plain": [
       "array([ True, False, False, False, False, False,  True,  True,  True,\n",
       "        True,  True, False, False, False, False, False, False, False,\n",
       "       False, False, False, False, False, False, False, False, False,\n",
       "       False, False, False, False, False, False,  True,  True,  True,\n",
       "       False, False, False,  True,  True, False,  True, False, False,\n",
       "       False, False, False,  True,  True, False,  True, False, False,\n",
       "        True,  True, False,  True, False, False,  True,  True, False,\n",
       "        True,  True, False,  True, False, False,  True,  True, False,\n",
       "        True, False, False,  True,  True,  True,  True,  True, False,\n",
       "        True,  True, False,  True,  True,  True,  True,  True,  True,\n",
       "        True, False, False, False, False, False,  True,  True, False,\n",
       "        True, False, False, False, False, False,  True,  True, False,\n",
       "       False, False, False,  True,  True,  True,  True,  True,  True,\n",
       "       False, False, False,  True, False, False,  True,  True,  True,\n",
       "        True,  True, False,  True,  True,  True, False, False, False,\n",
       "       False, False, False, False, False, False,  True,  True,  True,\n",
       "        True, False, False,  True, False, False,  True,  True,  True,\n",
       "       False, False, False,  True,  True, False, False, False, False,\n",
       "        True, False, False, False, False, False,  True, False, False,\n",
       "        True,  True, False,  True,  True,  True,  True,  True,  True,\n",
       "        True, False, False,  True,  True, False,  True,  True,  True,\n",
       "        True,  True, False,  True,  True, False,  True,  True, False,\n",
       "        True,  True,  True, False, False, False,  True,  True, False,\n",
       "        True,  True,  True,  True,  True,  True,  True, False, False,\n",
       "        True, False, False,  True, False, False,  True, False, False,\n",
       "       False, False, False,  True,  True, False,  True, False, False,\n",
       "        True, False, False, False, False, False,  True, False, False,\n",
       "        True,  True, False,  True,  True, False,  True,  True,  True,\n",
       "        True,  True,  True,  True, False, False,  True, False, False,\n",
       "        True,  True, False,  True, False, False,  True, False, False,\n",
       "        True,  True, False,  True, False, False,  True, False, False,\n",
       "        True, False, False, False, False, False, False, False, False,\n",
       "        True,  True,  True,  True, False, False,  True,  True, False,\n",
       "        True,  True, False,  True,  True, False,  True,  True,  True,\n",
       "        True,  True,  True, False, False, False,  True,  True,  True,\n",
       "        True,  True, False, False, False, False, False, False, False,\n",
       "       False, False, False,  True,  True,  True,  True, False, False,\n",
       "        True,  True,  True,  True,  True,  True,  True, False, False,\n",
       "       False, False, False,  True,  True,  True,  True,  True,  True,\n",
       "       False, False, False,  True, False, False, False, False, False,\n",
       "        True,  True, False,  True,  True, False,  True,  True,  True,\n",
       "        True,  True, False, False, False, False,  True,  True, False,\n",
       "       False, False, False,  True,  True, False])"
      ]
     },
     "execution_count": 100,
     "metadata": {},
     "output_type": "execute_result"
    }
   ],
   "source": [
    "hamming_three(buk)"
   ]
  },
  {
   "cell_type": "code",
   "execution_count": 101,
   "id": "bff6e0f1-7593-41b7-b33f-742dcade7d2b",
   "metadata": {},
   "outputs": [],
   "source": [
    "t2 = tlsh.hash(random.randbytes(1024))\n",
    "ex2 = t2[8:]"
   ]
  },
  {
   "cell_type": "code",
   "execution_count": 102,
   "id": "9bab250c-5aaa-4fb7-b766-2ad527a0897d",
   "metadata": {},
   "outputs": [
    {
     "data": {
      "text/plain": [
       "286"
      ]
     },
     "execution_count": 102,
     "metadata": {},
     "output_type": "execute_result"
    }
   ],
   "source": [
    "tlsh.diff(t1,t2)"
   ]
  },
  {
   "cell_type": "code",
   "execution_count": null,
   "id": "f16d2b79-0c98-4da1-b6f4-44e9f38a214b",
   "metadata": {},
   "outputs": [],
   "source": [
    "buk2 = to_hist(ex2)"
   ]
  },
  {
   "cell_type": "code",
   "execution_count": 107,
   "id": "f696641e-afda-41e7-ae63-ae633f386276",
   "metadata": {},
   "outputs": [
    {
     "data": {
      "text/plain": [
       "171.0"
      ]
     },
     "execution_count": 107,
     "metadata": {},
     "output_type": "execute_result"
    }
   ],
   "source": [
    "distance.hamming(hamming_three(buk),hamming_three(buk2)) * 3 * 128"
   ]
  },
  {
   "cell_type": "markdown",
   "id": "4ae540cb-2923-46dc-83d8-8ade2948a45f",
   "metadata": {},
   "source": [
    "# Another Hamming Distance, weighting extremes more"
   ]
  },
  {
   "cell_type": "code",
   "execution_count": 110,
   "id": "2d41db5c-2812-4fef-b20f-4b88d3b661cc",
   "metadata": {},
   "outputs": [],
   "source": [
    "def hamming_five(buckets):\n",
    "    ham = numpy.zeros(5 * 128, dtype=numpy.bool_)\n",
    "    for idx, val in enumerate(buckets):\n",
    "        if val == 3:\n",
    "            ham[5 * idx + 4] = 1\n",
    "            ham[5 * idx + 3] = 1\n",
    "        if val >= 2:\n",
    "            ham[5 * idx + 2] = 1\n",
    "        if val < 1:\n",
    "            ham[5 * idx + 1] = 1\n",
    "            ham[5 * idx] = 1\n",
    "    return ham"
   ]
  },
  {
   "cell_type": "code",
   "execution_count": 111,
   "id": "a5668617-1248-4c77-b05e-c229db705c8c",
   "metadata": {},
   "outputs": [
    {
     "data": {
      "text/plain": [
       "275.0"
      ]
     },
     "execution_count": 111,
     "metadata": {},
     "output_type": "execute_result"
    }
   ],
   "source": [
    "distance.hamming(hamming_five(buk),hamming_five(buk2)) * 5 * 128"
   ]
  },
  {
   "cell_type": "code",
   "execution_count": null,
   "id": "4fb5eeda-672a-4cc0-bbb3-076c84de6935",
   "metadata": {},
   "outputs": [],
   "source": []
  }
 ],
 "metadata": {
  "kernelspec": {
   "display_name": "Python 3",
   "language": "python",
   "name": "python3"
  },
  "language_info": {
   "codemirror_mode": {
    "name": "ipython",
    "version": 3
   },
   "file_extension": ".py",
   "mimetype": "text/x-python",
   "name": "python",
   "nbconvert_exporter": "python",
   "pygments_lexer": "ipython3",
   "version": "3.8.11"
  }
 },
 "nbformat": 4,
 "nbformat_minor": 5
}
