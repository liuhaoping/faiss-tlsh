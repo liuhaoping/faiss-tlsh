{
 "cells": [
  {
   "cell_type": "markdown",
   "id": "1adbbd21",
   "metadata": {},
   "source": [
    "# IndexHNSWFlat (Hierarchical Navigable Small World graph exploration)\n",
    "The IndexHNSW uses a flat index as underlying storage to quickly access the database vectors and abstract the compression / decompression of vectors. HNSW depends on a few important parameters:\n",
    "\n",
    "- M is the number of neighbors used in the graph. A larger M is more accurate but uses more memory\n",
    "- efConstruction is the depth of exploration at add time\n",
    "- efSearch is the depth of exploration of the search\n",
    "\n",
    "https://github.com/facebookresearch/faiss/wiki/Faiss-indexes\n"
   ]
  },
  {
   "cell_type": "code",
   "execution_count": 37,
   "id": "73064456",
   "metadata": {},
   "outputs": [],
   "source": [
    "import faiss                   \n",
    "import numpy as np\n",
    "import pandas as pd\n",
    "import time\n",
    "import tlsh\n",
    "from tools import *\n",
    "\n",
    "d = 70                         # dimension\n",
    "k = 3                          # we want to see K nearest neighbors\n",
    "M = 10                         # number of neighbors used in the graph. A larger M is more accurate but uses more memory"
   ]
  },
  {
   "cell_type": "markdown",
   "id": "85dad3cc",
   "metadata": {},
   "source": [
    "## Dummy Data Testing"
   ]
  },
  {
   "cell_type": "code",
   "execution_count": 21,
   "id": "46f3f8e7",
   "metadata": {
    "scrolled": true
   },
   "outputs": [
    {
     "data": {
      "text/plain": [
       "array([[ 9.,  6.,  4.,  5.,  9.,  0.,  3.,  3.,  1., 15.,  0., 15., 11.,\n",
       "         7.,  7.,  6., 10., 11., 10., 14.,  2.,  1.,  7.,  3.,  3.,  7.,\n",
       "         7.,  2., 15.,  3.,  2.,  3.,  3.,  2.,  2.,  4.,  3.,  5.,  8.,\n",
       "        11., 11., 14., 12., 10., 13.,  4., 13.,  3., 13., 14.,  4., 10.,\n",
       "        15.,  6.,  4.,  4., 11.,  1., 13.,  9.,  8.,  1., 13., 11., 14.,\n",
       "        12., 13.,  3.,  2., 14.]], dtype=float32)"
      ]
     },
     "execution_count": 21,
     "metadata": {},
     "output_type": "execute_result"
    }
   ],
   "source": [
    "xb = gen_data(10000, d)\n",
    "xb[:1]"
   ]
  },
  {
   "cell_type": "code",
   "execution_count": 22,
   "id": "42a53a87",
   "metadata": {
    "scrolled": true
   },
   "outputs": [
    {
     "name": "stdout",
     "output_type": "stream",
     "text": [
      "[[   0 7413 9948]\n",
      " [   1 4230 4577]\n",
      " [   2 2959 8332]\n",
      " [   3 6691 7357]\n",
      " [   4 7459 9390]]\n"
     ]
    }
   ],
   "source": [
    "index = faiss.IndexHNSWFlat(d, M)   # build the index\n",
    "index.add(xb)                  # add vectors to the index\n",
    "D, I = index.search(xb, k) # sanity check\n",
    "print(I[:5])\n",
    "# print(D[:1])"
   ]
  },
  {
   "cell_type": "code",
   "execution_count": 4,
   "id": "a36d6242",
   "metadata": {
    "scrolled": false
   },
   "outputs": [
    {
     "name": "stdout",
     "output_type": "stream",
     "text": [
      " recall at index:  0.8365,  missing rate: 0.0000\n"
     ]
    }
   ],
   "source": [
    "evaluate(I, pd.DataFrame(xb), k)"
   ]
  },
  {
   "cell_type": "code",
   "execution_count": 5,
   "id": "a2fb0a7e",
   "metadata": {
    "scrolled": false
   },
   "outputs": [
    {
     "name": "stdout",
     "output_type": "stream",
     "text": [
      "[[   0 6321 4788]\n",
      " [   1 5371 6247]\n",
      " [   2 6707 8238]\n",
      " [1170 2303 7737]\n",
      " [   4 8390 6516]]\n"
     ]
    }
   ],
   "source": [
    "xb = (xb/15)\n",
    "\n",
    "index = faiss.IndexHNSWFlat(d, M)   # build the index\n",
    "index.add(xb)                  # add vectors to the index\n",
    "D, I = index.search(xb, k) # sanity check\n",
    "print(I[:5])\n",
    "# print(D)"
   ]
  },
  {
   "cell_type": "code",
   "execution_count": 6,
   "id": "4bdd8d82",
   "metadata": {
    "scrolled": true
   },
   "outputs": [
    {
     "name": "stdout",
     "output_type": "stream",
     "text": [
      " recall at index:  0.8327,  missing rate: 0.0000\n"
     ]
    }
   ],
   "source": [
    "evaluate(I, pd.DataFrame(xb), k)"
   ]
  },
  {
   "cell_type": "markdown",
   "id": "3c9d60a5",
   "metadata": {},
   "source": [
    "## Malware Data Testing"
   ]
  },
  {
   "cell_type": "code",
   "execution_count": 34,
   "id": "2d7ae4e0",
   "metadata": {
    "scrolled": false
   },
   "outputs": [
    {
     "name": "stdout",
     "output_type": "stream",
     "text": [
      "(132134, 3)\n"
     ]
    },
    {
     "data": {
      "text/html": [
       "<div>\n",
       "<style scoped>\n",
       "    .dataframe tbody tr th:only-of-type {\n",
       "        vertical-align: middle;\n",
       "    }\n",
       "\n",
       "    .dataframe tbody tr th {\n",
       "        vertical-align: top;\n",
       "    }\n",
       "\n",
       "    .dataframe thead th {\n",
       "        text-align: right;\n",
       "    }\n",
       "</style>\n",
       "<table border=\"1\" class=\"dataframe\">\n",
       "  <thead>\n",
       "    <tr style=\"text-align: right;\">\n",
       "      <th></th>\n",
       "      <th>sha1_hash</th>\n",
       "      <th>tlsh</th>\n",
       "      <th>signature</th>\n",
       "    </tr>\n",
       "  </thead>\n",
       "  <tbody>\n",
       "    <tr>\n",
       "      <th>0</th>\n",
       "      <td>003411d0a9610cfe8a027a364b46c489fa034502</td>\n",
       "      <td>AF74AD89B6257A65DE3A727411C78FC1B994D007602253...</td>\n",
       "      <td>Quakbot</td>\n",
       "    </tr>\n",
       "  </tbody>\n",
       "</table>\n",
       "</div>"
      ],
      "text/plain": [
       "                                  sha1_hash  \\\n",
       "0  003411d0a9610cfe8a027a364b46c489fa034502   \n",
       "\n",
       "                                                tlsh signature  \n",
       "0  AF74AD89B6257A65DE3A727411C78FC1B994D007602253...   Quakbot  "
      ]
     },
     "execution_count": 34,
     "metadata": {},
     "output_type": "execute_result"
    }
   ],
   "source": [
    "df=pd.read_csv(\"../data/malware_bazaar.csv\",header=0)\n",
    "print(df.shape)\n",
    "df[:1]"
   ]
  },
  {
   "cell_type": "markdown",
   "id": "2a3b781e",
   "metadata": {},
   "source": [
    "### 70 Hex chars as Input"
   ]
  },
  {
   "cell_type": "code",
   "execution_count": 15,
   "id": "e70013b3",
   "metadata": {
    "scrolled": true
   },
   "outputs": [
    {
     "name": "stdout",
     "output_type": "stream",
     "text": [
      "(132134, 70)\n"
     ]
    }
   ],
   "source": [
    "xb = df['tlsh'].apply(convert_to_array)\n",
    "xb = np.array(xb.tolist()).astype('float32')\n",
    "print(xb.shape)"
   ]
  },
  {
   "cell_type": "code",
   "execution_count": 9,
   "id": "aac4a567",
   "metadata": {},
   "outputs": [
    {
     "name": "stdout",
     "output_type": "stream",
     "text": [
      "[[     0  55801  85151]\n",
      " [     1  24118  54676]\n",
      " [     2 116970  60316]\n",
      " [110150      3 115061]\n",
      " [ 45416 110092      4]]\n"
     ]
    }
   ],
   "source": [
    "index = faiss.IndexHNSWFlat(d, M)   # build the index\n",
    "index.add(xb)                  # add vectors to the index\n",
    "D, I = index.search(xb, k) # sanity check\n",
    "print(I[:5])"
   ]
  },
  {
   "cell_type": "code",
   "execution_count": 10,
   "id": "2f0681bc",
   "metadata": {},
   "outputs": [
    {
     "name": "stdout",
     "output_type": "stream",
     "text": [
      " recall at index:  0.8136,  missing rate: 0.0000\n",
      " recall at label:  0.9264\n"
     ]
    }
   ],
   "source": [
    "evaluate(I, df, k, True)"
   ]
  },
  {
   "cell_type": "markdown",
   "id": "53caed06",
   "metadata": {},
   "source": [
    "### 140 Buckets as Input"
   ]
  },
  {
   "cell_type": "code",
   "execution_count": 38,
   "id": "bbbe37fd",
   "metadata": {},
   "outputs": [
    {
     "name": "stdout",
     "output_type": "stream",
     "text": [
      "(132134, 140)\n",
      "[[     0  97650  67487]\n",
      " [     1  24118  25610]\n",
      " [     2  22140  70506]\n",
      " [110150      3 115061]\n",
      " [ 45416 110092      4]]\n"
     ]
    }
   ],
   "source": [
    "xb = df['tlsh'].apply(to_hist, args=(140,))\n",
    "xb = np.array(xb.tolist()).astype('float32')\n",
    "print(xb.shape)\n",
    "\n",
    "index = faiss.IndexHNSWFlat(d*2, M)   # build the index\n",
    "index.add(xb)                  # add vectors to the index\n",
    "D, I = index.search(xb, k) # sanity check\n",
    "print(I[:5])"
   ]
  },
  {
   "cell_type": "code",
   "execution_count": 12,
   "id": "ce4dbae3",
   "metadata": {
    "scrolled": false
   },
   "outputs": [
    {
     "name": "stdout",
     "output_type": "stream",
     "text": [
      " recall at index:  0.8166,  missing rate: 0.0000\n",
      " recall at label:  0.9218\n"
     ]
    }
   ],
   "source": [
    "evaluate(I, df, k, True)"
   ]
  },
  {
   "cell_type": "markdown",
   "id": "5d028996",
   "metadata": {},
   "source": [
    "## Vector/TLSH Comparsion by seach each other\n",
    "\n",
    "To see whether or not vector/tlsh occours together by searching each other.  (Top and bottom N)"
   ]
  },
  {
   "cell_type": "code",
   "execution_count": 39,
   "id": "f13ffb8a",
   "metadata": {},
   "outputs": [
    {
     "name": "stdout",
     "output_type": "stream",
     "text": [
      "[[     0  16621  40668  85151 117504  42881  99714  67487 123632  55801\n",
      "   97650  69675   1556   2781  97684 122300  21355  40376  14007  78986\n",
      "   83262  44959  86953  11763 128790   8805  75815 116081  85421  55732\n",
      "  116232 118391  12636  92715   5733  75061  78558 104323  90970  94497\n",
      "   14947  68448  97065  17965  32556   7239  68944  83854  52152  87769\n",
      "   80598  43809 102693  46712  46651  15175 117562 108608  55084  29713\n",
      "   27660  36071  29519  82274 122987  76150  23909 116935 120115   2775\n",
      "   32594  88107   6043 105494  49134 115364  53273  41115  14278  67285\n",
      "    2322  31013 130574  97105  15141  87562 121293  71740   3494  78755\n",
      "  128484  29030  91916   7965 120871  76204  19831  90452  48491 131330\n",
      "   25194  75701  33160 103132  58927  66667  77212  30099   6634  64479\n",
      "    2917   1053  86901  18084  53431 112267 124283 129669  56753  39742\n",
      "   17571   9414  76597 124927  18117  20455  45493  84817  57445  72750\n",
      "   20093  10967  15543  20999 111640  70280  84323  71599  16353  18317\n",
      "  128495   2035   4206  88048  16486  75589  93649 131836 116874   5828\n",
      "   81481     -1     -1     -1     -1     -1     -1     -1     -1     -1\n",
      "      -1     -1     -1     -1     -1     -1     -1     -1     -1     -1\n",
      "      -1     -1     -1     -1     -1     -1     -1     -1     -1     -1\n",
      "      -1     -1     -1     -1     -1     -1     -1     -1     -1     -1\n",
      "      -1     -1     -1     -1     -1     -1     -1     -1     -1     -1]\n",
      " [     1  24118  25610  54676  64392  35005  62720   9804  23903 105757\n",
      "  120614 102616  67562  11666   5559 103385  54903  33035   5432 107095\n",
      "   78040  31431  12669 101631 101722 107723  54966  15557  74858  53983\n",
      "  118986  56558  43782  40649 114869 103465  31434  91984 119728 123454\n",
      "   45553  58495  45914 112048 100818  68123  36950  81167  27118 132025\n",
      "  128807 107593  97536  38580  76931  41403 104753 123815  16647  62581\n",
      "   47656  27214 114103 113005   6348   8280  34392  69144 103334  71334\n",
      "  125195  19558  35795  98206  57612  76446  33341 128452  54443  37884\n",
      "   28045  16759  89953  37775  65843  78878 109730  17523 123141  58646\n",
      "   35974  97415  82933     -1     -1     -1     -1     -1     -1     -1\n",
      "      -1     -1     -1     -1     -1     -1     -1     -1     -1     -1\n",
      "      -1     -1     -1     -1     -1     -1     -1     -1     -1     -1\n",
      "      -1     -1     -1     -1     -1     -1     -1     -1     -1     -1\n",
      "      -1     -1     -1     -1     -1     -1     -1     -1     -1     -1\n",
      "      -1     -1     -1     -1     -1     -1     -1     -1     -1     -1\n",
      "      -1     -1     -1     -1     -1     -1     -1     -1     -1     -1\n",
      "      -1     -1     -1     -1     -1     -1     -1     -1     -1     -1\n",
      "      -1     -1     -1     -1     -1     -1     -1     -1     -1     -1\n",
      "      -1     -1     -1     -1     -1     -1     -1     -1     -1     -1\n",
      "      -1     -1     -1     -1     -1     -1     -1     -1     -1     -1]]\n"
     ]
    }
   ],
   "source": [
    "k = 200\n",
    "D, I = index.search(xb, k) # sanity check\n",
    "print(I[:2])"
   ]
  },
  {
   "cell_type": "code",
   "execution_count": 42,
   "id": "a2640aa2",
   "metadata": {},
   "outputs": [
    {
     "name": "stdout",
     "output_type": "stream",
     "text": [
      "[[     0  16621  40668  85151 117504  42881  99714  67487 123632  55801\n",
      "   97650  69675   1556   2781  97684 122300  21355  40376  14007  78986\n",
      "   83262  44959  86953  11763 128790   8805  75815 116081  85421  55732\n",
      "  116232 118391  12636  92715   5733  75061  78558 104323  90970  94497\n",
      "   14947  68448  97065  17965  32556   7239  68944  83854  52152  87769\n",
      "   80598  43809 102693  46712  46651  15175 117562 108608  55084  29713\n",
      "   27660  36071  29519  82274 122987  76150  23909 116935 120115   2775\n",
      "   32594  88107   6043 105494  49134 115364  53273  41115  14278  67285\n",
      "    2322  31013 130574  97105  15141  87562 121293  71740   3494  78755\n",
      "  128484  29030  91916   7965 120871  76204  19831  90452  48491 131330\n",
      "   25194  75701  33160 103132  58927  66667  77212  30099   6634  64479\n",
      "    2917   1053  86901  18084  53431 112267 124283 129669  56753  39742\n",
      "   17571   9414  76597 124927  18117  20455  45493  84817  57445  72750\n",
      "   20093  10967  15543  20999 111640  70280  84323  71599  16353  18317\n",
      "  128495   2035   4206  88048  16486  75589  93649 131836 116874   5828\n",
      "   81481     -1     -1     -1     -1     -1     -1     -1     -1     -1\n",
      "      -1     -1     -1     -1     -1     -1     -1     -1     -1     -1\n",
      "      -1     -1     -1     -1     -1     -1     -1     -1     -1     -1\n",
      "      -1     -1     -1     -1     -1     -1     -1     -1     -1     -1\n",
      "      -1     -1     -1     -1     -1     -1     -1     -1     -1     -1]\n",
      " [ 99714  67487  16621  85151  55801      0  44959  11763 118391  92715\n",
      "  104323  40376  55732 116232 122300  83854   2781  55084 120115 117504\n",
      "   27660  80598 116935  40668  23909  68944   1556  97684   2775  69675\n",
      "  123632  97650  36071  86953  85421 118303  67285   8805  94497  14947\n",
      "   17965  14278  97065  21355  48491  87562  41115   2322  12636  75061\n",
      "   75701  33160   2917  32556  42881  81580  46712   6634  30099 122987\n",
      "  124927  85218  25194  76150  50070  48326 126481  20093  84323  76204\n",
      "   40177  31013 131330  10222   5733  57881  98965  78986  90970  71599\n",
      "  131088  75815  15141  83262  71740  14007  91916 116081  97105  53273\n",
      "   84817  20455 117316 105494  79310  49134  19831  68448  78558  27450\n",
      "  128495   2035  41530  64479 108608  18317  88107  32594  86123   6188\n",
      "  103480 111640 104290  29030 129669  16353  75589  42329     -1     -1\n",
      "      -1     -1     -1     -1     -1     -1     -1     -1     -1     -1\n",
      "      -1     -1     -1     -1     -1     -1     -1     -1     -1     -1\n",
      "      -1     -1     -1     -1     -1     -1     -1     -1     -1     -1\n",
      "      -1     -1     -1     -1     -1     -1     -1     -1     -1     -1\n",
      "      -1     -1     -1     -1     -1     -1     -1     -1     -1     -1\n",
      "      -1     -1     -1     -1     -1     -1     -1     -1     -1     -1\n",
      "      -1     -1     -1     -1     -1     -1     -1     -1     -1     -1\n",
      "      -1     -1     -1     -1     -1     -1     -1     -1     -1     -1]\n",
      " [  5828 128790 116081  83262  14007  75815  86901  42881 102693  88107\n",
      "   97650  93598  46651  43809  71740  57445 109866  17822  85232  91916\n",
      "       0 100341  90452 130858  45232  72750  15141  68448 120871  86953\n",
      "   97105  22511  69554 109000   8054  71267 108608 122987   1712 117504\n",
      "   25067 117562  78339   4206  46712   2781  77953 115063  64479 120990\n",
      "  115268  67939  95371  40668  18084  82569 103631  45484   1556    395\n",
      "   19645  80500  56732  71507  33004 115364  78558    109  78986   5733\n",
      "   55732  49484  16353  97065  11763  76204  24445   6188  81887  29030\n",
      "   71328   7965  51867 128484  54738  16963  10967   1053  70987  39123\n",
      "   16995 122853   8984 112267  53651  30099  69675  67487   6634  13168\n",
      "  114471   6789   5516  53431  35461  50240 124283  66106  45877  29478\n",
      "   80598   6484 116935  20455  20999  95600 103480  70280  18117  16486\n",
      "  131836  50860  93649 109898 124698  35318  56824     -1     -1     -1\n",
      "      -1     -1     -1     -1     -1     -1     -1     -1     -1     -1\n",
      "      -1     -1     -1     -1     -1     -1     -1     -1     -1     -1\n",
      "      -1     -1     -1     -1     -1     -1     -1     -1     -1     -1\n",
      "      -1     -1     -1     -1     -1     -1     -1     -1     -1     -1\n",
      "      -1     -1     -1     -1     -1     -1     -1     -1     -1     -1\n",
      "      -1     -1     -1     -1     -1     -1     -1     -1     -1     -1\n",
      "      -1     -1     -1     -1     -1     -1     -1     -1     -1     -1]\n",
      " [ 81481  61185   5458  42935  54444 127513  40704 125269   4396  92901\n",
      "  118284  29312  99871  12570  30486  51469  77831  17818  21650 127022\n",
      "   55284  19483  69718  34780  42376  68857  61081  95631  43152  78492\n",
      "   56091 116753  50201 111356  43968  40023  46673    452  96643  35856\n",
      "  118840 108731  14206  84678  89035  47790  31030 127411  80742  22078\n",
      "   29881   5733  90970  78558  78986  12795  42881  15175  16823 123632\n",
      "   88850   1053 112267  29030   7965  20999  20907 128484  88048 108872\n",
      "   18757  15543  25714  99097 122522  44003  58137  82343  29639     -1\n",
      "      -1     -1     -1     -1     -1     -1     -1     -1     -1     -1\n",
      "      -1     -1     -1     -1     -1     -1     -1     -1     -1     -1\n",
      "      -1     -1     -1     -1     -1     -1     -1     -1     -1     -1\n",
      "      -1     -1     -1     -1     -1     -1     -1     -1     -1     -1\n",
      "      -1     -1     -1     -1     -1     -1     -1     -1     -1     -1\n",
      "      -1     -1     -1     -1     -1     -1     -1     -1     -1     -1\n",
      "      -1     -1     -1     -1     -1     -1     -1     -1     -1     -1\n",
      "      -1     -1     -1     -1     -1     -1     -1     -1     -1     -1\n",
      "      -1     -1     -1     -1     -1     -1     -1     -1     -1     -1\n",
      "      -1     -1     -1     -1     -1     -1     -1     -1     -1     -1\n",
      "      -1     -1     -1     -1     -1     -1     -1     -1     -1     -1\n",
      "      -1     -1     -1     -1     -1     -1     -1     -1     -1     -1]]\n"
     ]
    }
   ],
   "source": [
    "query =  xb[[ 0, 16621, 5828, 81481 ]]\n",
    "D, I = index.search(query, k) # sanity check\n",
    "print(I[:4])"
   ]
  }
 ],
 "metadata": {
  "kernelspec": {
   "display_name": "Python 3",
   "language": "python",
   "name": "python3"
  },
  "language_info": {
   "codemirror_mode": {
    "name": "ipython",
    "version": 3
   },
   "file_extension": ".py",
   "mimetype": "text/x-python",
   "name": "python",
   "nbconvert_exporter": "python",
   "pygments_lexer": "ipython3",
   "version": "3.8.11"
  }
 },
 "nbformat": 4,
 "nbformat_minor": 5
}
